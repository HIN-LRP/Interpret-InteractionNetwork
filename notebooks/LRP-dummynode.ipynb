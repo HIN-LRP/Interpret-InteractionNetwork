{
 "cells": [
  {
   "cell_type": "code",
   "execution_count": 1,
   "metadata": {},
   "outputs": [],
   "source": [
    "import torch\n",
    "import torch.nn as nn"
   ]
  },
  {
   "cell_type": "code",
   "execution_count": 2,
   "metadata": {},
   "outputs": [],
   "source": [
    "import numpy as np"
   ]
  },
  {
   "cell_type": "code",
   "execution_count": 3,
   "metadata": {},
   "outputs": [],
   "source": [
    "from itertools import permutations"
   ]
  },
  {
   "cell_type": "code",
   "execution_count": 4,
   "metadata": {},
   "outputs": [],
   "source": [
    "model=torch.load(\"IN_best_dec10.pth\",map_location=torch.device('cpu'))"
   ]
  },
  {
   "cell_type": "code",
   "execution_count": 5,
   "metadata": {},
   "outputs": [
    {
     "name": "stdout",
     "output_type": "stream",
     "text": [
      "['edge_mlp', '0'] 0\n",
      "['edge_mlp', '1'] 1\n",
      "['edge_mlp', '3'] 2\n",
      "['node_mlp_1', '0'] 3\n",
      "['node_mlp_1', '1'] 4\n",
      "['node_mlp_1', '3'] 5\n",
      "['node_mlp_2', '0'] 6\n",
      "['node_mlp_2', '1'] 7\n",
      "['node_mlp_2', '3'] 8\n",
      "['global_mlp', '0'] 9\n",
      "['global_mlp', '1'] 10\n",
      "['global_mlp', '3'] 11\n"
     ]
    }
   ],
   "source": [
    "params={}\n",
    "processed=set()\n",
    "w_cnt=0\n",
    "b_cnt=0\n",
    "\n",
    "for k in model.keys():\n",
    "    ln=k.split(\".\")[2:]\n",
    "    \n",
    "    if \"weight\" in ln:\n",
    "        n=f\"w{w_cnt}\"\n",
    "        \n",
    "        print(ln[:2],w_cnt)\n",
    "        w_cnt+=1\n",
    "        \n",
    "    elif \"bias\" in ln:\n",
    "        n=f\"b{b_cnt}\"\n",
    "        b_cnt+=1\n",
    "        \n",
    "    else:\n",
    "        continue\n",
    "    \n",
    "\n",
    "    lv=model[k]\n",
    "    \n",
    "    params[n]=lv"
   ]
  },
  {
   "cell_type": "code",
   "execution_count": 6,
   "metadata": {},
   "outputs": [
    {
     "name": "stdout",
     "output_type": "stream",
     "text": [
      "w0 torch.Size([128, 96])\n",
      "b0 torch.Size([128])\n",
      "w1 torch.Size([128])\n",
      "b1 torch.Size([128])\n",
      "w2 torch.Size([128, 128])\n",
      "b2 torch.Size([128])\n",
      "w3 torch.Size([128, 176])\n",
      "b3 torch.Size([128])\n",
      "w4 torch.Size([128])\n",
      "b4 torch.Size([128])\n",
      "w5 torch.Size([128, 128])\n",
      "b5 torch.Size([128])\n",
      "w6 torch.Size([128, 176])\n",
      "b6 torch.Size([128])\n",
      "w7 torch.Size([128])\n",
      "b7 torch.Size([128])\n",
      "w8 torch.Size([128, 128])\n",
      "b8 torch.Size([128])\n",
      "w9 torch.Size([128, 128])\n",
      "b9 torch.Size([128])\n",
      "w10 torch.Size([128])\n",
      "b10 torch.Size([128])\n",
      "w11 torch.Size([2, 128])\n",
      "b11 torch.Size([2])\n"
     ]
    }
   ],
   "source": [
    "for k in params.keys():\n",
    "    print(k,params[k].shape)"
   ]
  },
  {
   "cell_type": "code",
   "execution_count": 81,
   "metadata": {},
   "outputs": [],
   "source": [
    "# create dummy input \n",
    "\n",
    "n=3\n",
    "x=torch.ones(n,48,dtype=torch.float64,requires_grad=True)\n",
    "edge_index=torch.tensor(list(permutations(range(n),2))).T"
   ]
  },
  {
   "cell_type": "code",
   "execution_count": 82,
   "metadata": {},
   "outputs": [],
   "source": [
    "row,col=edge_index"
   ]
  },
  {
   "cell_type": "code",
   "execution_count": 83,
   "metadata": {},
   "outputs": [
    {
     "data": {
      "text/plain": [
       "torch.Size([6, 96])"
      ]
     },
     "execution_count": 83,
     "metadata": {},
     "output_type": "execute_result"
    }
   ],
   "source": [
    "a=torch.cat([x[row],x[col]],1)\n",
    "a.shape"
   ]
  },
  {
   "cell_type": "code",
   "execution_count": 84,
   "metadata": {},
   "outputs": [
    {
     "data": {
      "text/plain": [
       "torch.Size([6, 192])"
      ]
     },
     "execution_count": 84,
     "metadata": {},
     "output_type": "execute_result"
    }
   ],
   "source": [
    "# argument input\n",
    "\n",
    "alpha=x[col]/(n-1)\n",
    "beta=x[row]\n",
    "a_p=torch.cat([alpha,beta,a],1)\n",
    "a_p.shape # 48+48+48*2"
   ]
  },
  {
   "cell_type": "markdown",
   "metadata": {},
   "source": [
    "edge block"
   ]
  },
  {
   "cell_type": "code",
   "execution_count": 85,
   "metadata": {},
   "outputs": [
    {
     "data": {
      "text/plain": [
       "torch.Size([128, 96])"
      ]
     },
     "execution_count": 85,
     "metadata": {},
     "output_type": "execute_result"
    }
   ],
   "source": [
    "w0=params[\"w0\"]\n",
    "w0.shape"
   ]
  },
  {
   "cell_type": "code",
   "execution_count": 86,
   "metadata": {},
   "outputs": [
    {
     "data": {
      "text/plain": [
       "torch.Size([224, 192])"
      ]
     },
     "execution_count": 86,
     "metadata": {},
     "output_type": "execute_result"
    }
   ],
   "source": [
    "w0_p=np.eye(48*2+w0.shape[0],48*2+w0.shape[1])\n",
    "w0_p[48*2:,48*2:]=w0\n",
    "w0_p=torch.tensor(w0_p)\n",
    "w0_p.shape"
   ]
  },
  {
   "cell_type": "code",
   "execution_count": 87,
   "metadata": {},
   "outputs": [
    {
     "data": {
      "text/plain": [
       "torch.Size([128])"
      ]
     },
     "execution_count": 87,
     "metadata": {},
     "output_type": "execute_result"
    }
   ],
   "source": [
    "b0=params[\"b0\"]\n",
    "b0.shape"
   ]
  },
  {
   "cell_type": "code",
   "execution_count": 88,
   "metadata": {},
   "outputs": [
    {
     "data": {
      "text/plain": [
       "torch.Size([224])"
      ]
     },
     "execution_count": 88,
     "metadata": {},
     "output_type": "execute_result"
    }
   ],
   "source": [
    "b0_p=np.zeros(48*2+b0.shape[0])\n",
    "b0_p[48*2:]=b0\n",
    "b0_p=torch.tensor(b0_p)\n",
    "b0_p.shape"
   ]
  },
  {
   "cell_type": "code",
   "execution_count": 89,
   "metadata": {},
   "outputs": [
    {
     "data": {
      "text/plain": [
       "(torch.Size([6, 192]), torch.Size([192, 224]))"
      ]
     },
     "execution_count": 89,
     "metadata": {},
     "output_type": "execute_result"
    }
   ],
   "source": [
    "a_p.shape,w0_p.T.shape"
   ]
  },
  {
   "cell_type": "code",
   "execution_count": 90,
   "metadata": {},
   "outputs": [
    {
     "data": {
      "text/plain": [
       "(torch.float64, torch.float64, torch.float64)"
      ]
     },
     "execution_count": 90,
     "metadata": {},
     "output_type": "execute_result"
    }
   ],
   "source": [
    "a_p.dtype,w0_p.dtype,b0_p.dtype"
   ]
  },
  {
   "cell_type": "code",
   "execution_count": 91,
   "metadata": {},
   "outputs": [
    {
     "data": {
      "text/plain": [
       "torch.Size([6, 224])"
      ]
     },
     "execution_count": 91,
     "metadata": {},
     "output_type": "execute_result"
    }
   ],
   "source": [
    "a0=a_p @ w0_p.T+b0_p\n",
    "a0.shape"
   ]
  },
  {
   "cell_type": "code",
   "execution_count": 92,
   "metadata": {},
   "outputs": [
    {
     "data": {
      "text/plain": [
       "(tensor(1), tensor(1))"
      ]
     },
     "execution_count": 92,
     "metadata": {},
     "output_type": "execute_result"
    }
   ],
   "source": [
    "torch.prod(a0[:,:48]==alpha),torch.prod(a0[:,48:48*2]==beta)"
   ]
  },
  {
   "cell_type": "code",
   "execution_count": 93,
   "metadata": {},
   "outputs": [
    {
     "data": {
      "text/plain": [
       "torch.Size([128, 128])"
      ]
     },
     "execution_count": 93,
     "metadata": {},
     "output_type": "execute_result"
    }
   ],
   "source": [
    "params[\"w2\"].shape"
   ]
  },
  {
   "cell_type": "code",
   "execution_count": 94,
   "metadata": {},
   "outputs": [
    {
     "data": {
      "text/plain": [
       "torch.Size([224, 224])"
      ]
     },
     "execution_count": 94,
     "metadata": {},
     "output_type": "execute_result"
    }
   ],
   "source": [
    "w2=np.eye(48*2+params[\"w2\"].shape[0],48*2+params[\"w2\"].shape[1])\n",
    "w2[48*2:,48*2:]=params[\"w2\"]\n",
    "w2=torch.tensor(w2)\n",
    "w2.shape"
   ]
  },
  {
   "cell_type": "code",
   "execution_count": 95,
   "metadata": {},
   "outputs": [
    {
     "data": {
      "text/plain": [
       "torch.Size([224])"
      ]
     },
     "execution_count": 95,
     "metadata": {},
     "output_type": "execute_result"
    }
   ],
   "source": [
    "b2=torch.cat([torch.zeros(48*2),params[\"b2\"]])\n",
    "b2.shape"
   ]
  },
  {
   "cell_type": "code",
   "execution_count": 96,
   "metadata": {},
   "outputs": [
    {
     "data": {
      "text/plain": [
       "torch.Size([6, 224])"
      ]
     },
     "execution_count": 96,
     "metadata": {},
     "output_type": "execute_result"
    }
   ],
   "source": [
    "a2=a0@w2.T+b2\n",
    "a2.shape"
   ]
  },
  {
   "cell_type": "markdown",
   "metadata": {},
   "source": [
    "node block"
   ]
  },
  {
   "cell_type": "code",
   "execution_count": 97,
   "metadata": {},
   "outputs": [
    {
     "data": {
      "text/plain": [
       "torch.Size([176, 224])"
      ]
     },
     "execution_count": 97,
     "metadata": {},
     "output_type": "execute_result"
    }
   ],
   "source": [
    "i,j=params[\"w3\"].shape\n",
    "w3=np.eye(48+i,48+j)\n",
    "w3[48:,48:]=params[\"w3\"]\n",
    "w3=torch.tensor(w3)\n",
    "w3.shape"
   ]
  },
  {
   "cell_type": "code",
   "execution_count": 98,
   "metadata": {},
   "outputs": [
    {
     "data": {
      "text/plain": [
       "torch.Size([176])"
      ]
     },
     "execution_count": 98,
     "metadata": {},
     "output_type": "execute_result"
    }
   ],
   "source": [
    "b3=torch.cat([torch.zeros(48),params[\"b3\"]])\n",
    "b3.shape"
   ]
  },
  {
   "cell_type": "code",
   "execution_count": 99,
   "metadata": {},
   "outputs": [
    {
     "data": {
      "text/plain": [
       "torch.Size([6, 176])"
      ]
     },
     "execution_count": 99,
     "metadata": {},
     "output_type": "execute_result"
    }
   ],
   "source": [
    "a3=a2@w3.T+b3\n",
    "a3.shape"
   ]
  },
  {
   "cell_type": "code",
   "execution_count": 100,
   "metadata": {},
   "outputs": [
    {
     "data": {
      "text/plain": [
       "(tensor(1), tensor(0))"
      ]
     },
     "execution_count": 100,
     "metadata": {},
     "output_type": "execute_result"
    }
   ],
   "source": [
    "torch.prod(a3[:,:48]==alpha),torch.prod(a3[:,48:48*2]==beta)"
   ]
  },
  {
   "cell_type": "code",
   "execution_count": 101,
   "metadata": {},
   "outputs": [
    {
     "data": {
      "text/plain": [
       "torch.Size([176, 176])"
      ]
     },
     "execution_count": 101,
     "metadata": {},
     "output_type": "execute_result"
    }
   ],
   "source": [
    "i,j=params[\"w5\"].shape\n",
    "w5=np.eye(48+i,48+j)\n",
    "w5[48:,48:]=params[\"w5\"]\n",
    "w5=torch.tensor(w5)\n",
    "w5.shape"
   ]
  },
  {
   "cell_type": "code",
   "execution_count": 102,
   "metadata": {},
   "outputs": [
    {
     "data": {
      "text/plain": [
       "torch.Size([176])"
      ]
     },
     "execution_count": 102,
     "metadata": {},
     "output_type": "execute_result"
    }
   ],
   "source": [
    "b5=torch.cat([torch.zeros(48),params[\"b5\"]])\n",
    "b5.shape"
   ]
  },
  {
   "cell_type": "code",
   "execution_count": 103,
   "metadata": {},
   "outputs": [
    {
     "data": {
      "text/plain": [
       "torch.Size([6, 176])"
      ]
     },
     "execution_count": 103,
     "metadata": {},
     "output_type": "execute_result"
    }
   ],
   "source": [
    "a5=a3@w5.T+b5\n",
    "a5.shape"
   ]
  },
  {
   "cell_type": "markdown",
   "metadata": {},
   "source": [
    "scatter mean"
   ]
  },
  {
   "cell_type": "code",
   "execution_count": 56,
   "metadata": {},
   "outputs": [],
   "source": [
    "M=torch.zeros(col.shape[0],n,dtype=torch.float64)"
   ]
  },
  {
   "cell_type": "code",
   "execution_count": 57,
   "metadata": {},
   "outputs": [
    {
     "data": {
      "text/plain": [
       "tensor([[0., 0., 0.],\n",
       "        [0., 0., 0.],\n",
       "        [0., 0., 0.],\n",
       "        [0., 0., 0.],\n",
       "        [0., 0., 0.],\n",
       "        [0., 0., 0.]], dtype=torch.float64)"
      ]
     },
     "execution_count": 57,
     "metadata": {},
     "output_type": "execute_result"
    }
   ],
   "source": [
    "M"
   ]
  },
  {
   "cell_type": "code",
   "execution_count": 58,
   "metadata": {},
   "outputs": [
    {
     "data": {
      "text/plain": [
       "tensor([[0., 0., 1., 0., 1., 0.],\n",
       "        [1., 0., 0., 0., 0., 1.],\n",
       "        [0., 1., 0., 1., 0., 0.]], dtype=torch.float64)"
      ]
     },
     "execution_count": 58,
     "metadata": {},
     "output_type": "execute_result"
    }
   ],
   "source": [
    "for i,j in enumerate(col):\n",
    "    M[i,j]=1\n",
    "M=M.T\n",
    "M"
   ]
  },
  {
   "cell_type": "code",
   "execution_count": 60,
   "metadata": {},
   "outputs": [
    {
     "data": {
      "text/plain": [
       "torch.Size([3, 176])"
      ]
     },
     "execution_count": 60,
     "metadata": {},
     "output_type": "execute_result"
    }
   ],
   "source": [
    "m=M@a5\n",
    "m.shape"
   ]
  },
  {
   "cell_type": "code",
   "execution_count": 64,
   "metadata": {},
   "outputs": [
    {
     "data": {
      "text/plain": [
       "tensor(1)"
      ]
     },
     "execution_count": 64,
     "metadata": {},
     "output_type": "execute_result"
    }
   ],
   "source": [
    "torch.prod(m[:,:48]==x)"
   ]
  },
  {
   "cell_type": "markdown",
   "metadata": {},
   "source": [
    "continue within node block"
   ]
  },
  {
   "cell_type": "code",
   "execution_count": 73,
   "metadata": {},
   "outputs": [
    {
     "name": "stderr",
     "output_type": "stream",
     "text": [
      "/Users/indigo410/opt/anaconda3/envs/dsp/lib/python3.7/site-packages/ipykernel_launcher.py:1: UserWarning: To copy construct from a tensor, it is recommended to use sourceTensor.clone().detach() or sourceTensor.clone().detach().requires_grad_(True), rather than torch.tensor(sourceTensor).\n",
      "  \"\"\"Entry point for launching an IPython kernel.\n",
      "/Users/indigo410/opt/anaconda3/envs/dsp/lib/python3.7/site-packages/ipykernel_launcher.py:2: UserWarning: To copy construct from a tensor, it is recommended to use sourceTensor.clone().detach() or sourceTensor.clone().detach().requires_grad_(True), rather than torch.tensor(sourceTensor).\n",
      "  \n"
     ]
    },
    {
     "data": {
      "text/plain": [
       "torch.Size([6, 128])"
      ]
     },
     "execution_count": 73,
     "metadata": {},
     "output_type": "execute_result"
    }
   ],
   "source": [
    "w6=torch.tensor(params[\"w6\"],dtype=torch.float64)\n",
    "b6=torch.tensor(params[\"b6\"],dtype=torch.float64)\n",
    "a6=a5@w6.T+b6\n",
    "a6.shape"
   ]
  },
  {
   "cell_type": "code",
   "execution_count": 75,
   "metadata": {},
   "outputs": [
    {
     "name": "stderr",
     "output_type": "stream",
     "text": [
      "/Users/indigo410/opt/anaconda3/envs/dsp/lib/python3.7/site-packages/ipykernel_launcher.py:1: UserWarning: To copy construct from a tensor, it is recommended to use sourceTensor.clone().detach() or sourceTensor.clone().detach().requires_grad_(True), rather than torch.tensor(sourceTensor).\n",
      "  \"\"\"Entry point for launching an IPython kernel.\n",
      "/Users/indigo410/opt/anaconda3/envs/dsp/lib/python3.7/site-packages/ipykernel_launcher.py:2: UserWarning: To copy construct from a tensor, it is recommended to use sourceTensor.clone().detach() or sourceTensor.clone().detach().requires_grad_(True), rather than torch.tensor(sourceTensor).\n",
      "  \n"
     ]
    },
    {
     "data": {
      "text/plain": [
       "torch.Size([6, 128])"
      ]
     },
     "execution_count": 75,
     "metadata": {},
     "output_type": "execute_result"
    }
   ],
   "source": [
    "w8=torch.tensor(params[\"w8\"],dtype=torch.float64)\n",
    "b8=torch.tensor(params[\"b8\"],dtype=torch.float64)\n",
    "a8=a6@w8.T+b8\n",
    "a8.shape"
   ]
  },
  {
   "cell_type": "markdown",
   "metadata": {},
   "source": [
    "global block"
   ]
  },
  {
   "cell_type": "markdown",
   "metadata": {},
   "source": [
    "scatter mean?"
   ]
  },
  {
   "cell_type": "code",
   "execution_count": 119,
   "metadata": {},
   "outputs": [
    {
     "data": {
      "text/plain": [
       "torch.Size([6, 128])"
      ]
     },
     "metadata": {},
     "output_type": "display_data"
    }
   ],
   "source": [
    "display(a8.shape)\n",
    "a8_p=a8.mean(0)"
   ]
  },
  {
   "cell_type": "code",
   "execution_count": 139,
   "metadata": {},
   "outputs": [
    {
     "data": {
      "text/plain": [
       "tensor([ 0.2942, -0.2485,  0.2253,  0.0817, -0.0348,  0.2023, -0.1418,  0.6224,\n",
       "        -0.2384, -0.3247,  0.5302,  0.1043, -0.3219,  0.7994, -0.0656,  0.5350,\n",
       "        -0.1087,  0.2923, -0.3072, -0.3681, -0.0248,  0.0594, -0.4988, -0.0653,\n",
       "        -0.2231, -0.6669, -0.7339, -0.1788, -0.0791, -0.7194, -0.3306, -0.2657,\n",
       "        -0.3448,  0.0409,  0.7050, -0.1336, -0.6460, -0.0289,  0.2894, -0.1160,\n",
       "         0.2218, -0.1697,  0.0224, -0.3302,  0.1279, -0.0600,  0.2026,  0.2647,\n",
       "         0.0845,  0.0426, -0.2317, -0.2089,  0.4994,  0.2698, -0.1798, -0.1699,\n",
       "         0.8241,  0.1331, -0.0839, -0.0390,  0.7269, -0.1224,  0.3306,  0.8688,\n",
       "         0.0770, -0.2528,  0.0249, -0.3981,  0.3225, -0.5872,  0.1055,  0.1216,\n",
       "         0.2511,  0.2363, -0.3437, -0.0016,  0.0052,  0.2481,  0.3871,  0.3823,\n",
       "         0.1270,  0.2895, -0.4254,  0.4618, -0.5040,  0.0983,  0.5255,  0.1691,\n",
       "         0.1251, -0.6663,  0.2843,  0.2425,  0.9668,  0.0787, -0.2004,  0.4134,\n",
       "         0.4289, -0.1550, -0.2484, -0.1735, -0.0148, -0.1139,  0.4269,  0.5504,\n",
       "         0.7638,  0.5240, -0.1604,  0.4111,  0.3616,  0.3652, -0.5042, -0.4536,\n",
       "         0.6802, -0.0217,  0.4484,  0.0528, -0.5717,  0.3574,  0.4007,  0.1242,\n",
       "        -0.4184,  0.5353, -0.1757, -0.2341,  0.3242,  0.5914, -0.3674,  0.3336],\n",
       "       dtype=torch.float64)"
      ]
     },
     "execution_count": 139,
     "metadata": {},
     "output_type": "execute_result"
    }
   ],
   "source": [
    "(torch.ones(6,dtype=torch.float64)@a8/6)"
   ]
  },
  {
   "cell_type": "code",
   "execution_count": 120,
   "metadata": {},
   "outputs": [
    {
     "name": "stderr",
     "output_type": "stream",
     "text": [
      "/Users/indigo410/opt/anaconda3/envs/dsp/lib/python3.7/site-packages/ipykernel_launcher.py:1: UserWarning: To copy construct from a tensor, it is recommended to use sourceTensor.clone().detach() or sourceTensor.clone().detach().requires_grad_(True), rather than torch.tensor(sourceTensor).\n",
      "  \"\"\"Entry point for launching an IPython kernel.\n",
      "/Users/indigo410/opt/anaconda3/envs/dsp/lib/python3.7/site-packages/ipykernel_launcher.py:2: UserWarning: To copy construct from a tensor, it is recommended to use sourceTensor.clone().detach() or sourceTensor.clone().detach().requires_grad_(True), rather than torch.tensor(sourceTensor).\n",
      "  \n"
     ]
    },
    {
     "data": {
      "text/plain": [
       "torch.Size([128])"
      ]
     },
     "execution_count": 120,
     "metadata": {},
     "output_type": "execute_result"
    }
   ],
   "source": [
    "w9=torch.tensor(params[\"w9\"],dtype=torch.float64)\n",
    "b9=torch.tensor(params[\"b9\"],dtype=torch.float64)\n",
    "a9=a8_p@w9.T+b9\n",
    "a9.shape"
   ]
  },
  {
   "cell_type": "code",
   "execution_count": 121,
   "metadata": {},
   "outputs": [
    {
     "name": "stderr",
     "output_type": "stream",
     "text": [
      "/Users/indigo410/opt/anaconda3/envs/dsp/lib/python3.7/site-packages/ipykernel_launcher.py:1: UserWarning: To copy construct from a tensor, it is recommended to use sourceTensor.clone().detach() or sourceTensor.clone().detach().requires_grad_(True), rather than torch.tensor(sourceTensor).\n",
      "  \"\"\"Entry point for launching an IPython kernel.\n",
      "/Users/indigo410/opt/anaconda3/envs/dsp/lib/python3.7/site-packages/ipykernel_launcher.py:2: UserWarning: To copy construct from a tensor, it is recommended to use sourceTensor.clone().detach() or sourceTensor.clone().detach().requires_grad_(True), rather than torch.tensor(sourceTensor).\n",
      "  \n"
     ]
    },
    {
     "data": {
      "text/plain": [
       "torch.Size([2])"
      ]
     },
     "execution_count": 121,
     "metadata": {},
     "output_type": "execute_result"
    }
   ],
   "source": [
    "w11=torch.tensor(params[\"w11\"],dtype=torch.float64)\n",
    "b11=torch.tensor(params[\"b11\"],dtype=torch.float64)\n",
    "a11=a9@w11.T+b11\n",
    "a11.shape"
   ]
  },
  {
   "cell_type": "markdown",
   "metadata": {},
   "source": [
    "`u` and predicted class probability"
   ]
  },
  {
   "cell_type": "code",
   "execution_count": 122,
   "metadata": {},
   "outputs": [
    {
     "data": {
      "text/plain": [
       "tensor([ 1.8594, -1.5062], dtype=torch.float64)"
      ]
     },
     "execution_count": 122,
     "metadata": {},
     "output_type": "execute_result"
    }
   ],
   "source": [
    "a11"
   ]
  },
  {
   "cell_type": "code",
   "execution_count": 131,
   "metadata": {},
   "outputs": [
    {
     "data": {
      "text/plain": [
       "tensor([0.9666, 0.0334], dtype=torch.float64)"
      ]
     },
     "execution_count": 131,
     "metadata": {},
     "output_type": "execute_result"
    }
   ],
   "source": [
    "nn.Softmax(0)(a11)"
   ]
  },
  {
   "cell_type": "markdown",
   "metadata": {},
   "source": [
    "model as a linear function:"
   ]
  },
  {
   "cell_type": "code",
   "execution_count": null,
   "metadata": {},
   "outputs": [],
   "source": []
  },
  {
   "cell_type": "code",
   "execution_count": null,
   "metadata": {},
   "outputs": [],
   "source": []
  },
  {
   "cell_type": "code",
   "execution_count": null,
   "metadata": {},
   "outputs": [],
   "source": []
  },
  {
   "cell_type": "code",
   "execution_count": null,
   "metadata": {},
   "outputs": [],
   "source": []
  },
  {
   "cell_type": "code",
   "execution_count": null,
   "metadata": {},
   "outputs": [],
   "source": []
  }
 ],
 "metadata": {
  "kernelspec": {
   "display_name": "Python 3",
   "language": "python",
   "name": "python3"
  },
  "language_info": {
   "codemirror_mode": {
    "name": "ipython",
    "version": 3
   },
   "file_extension": ".py",
   "mimetype": "text/x-python",
   "name": "python",
   "nbconvert_exporter": "python",
   "pygments_lexer": "ipython3",
   "version": "3.7.6"
  }
 },
 "nbformat": 4,
 "nbformat_minor": 4
}
