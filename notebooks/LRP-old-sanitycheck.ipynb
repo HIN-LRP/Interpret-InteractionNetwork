{
 "cells": [
  {
   "cell_type": "code",
   "execution_count": 1,
   "metadata": {},
   "outputs": [],
   "source": [
    "import torch\n",
    "import torch.nn as nn\n",
    "from torch.nn import Sequential as Seq,Linear,ReLU,BatchNorm1d\n",
    "from torch_scatter import scatter_mean\n",
    "\n",
    "import numpy as np\n",
    "import matplotlib\n",
    "import matplotlib.pyplot as plt\n",
    "\n",
    "from InteractionNetwork import InteractionNetwork"
   ]
  },
  {
   "cell_type": "markdown",
   "metadata": {},
   "source": [
    "<hr>\n",
    "load pretrained model"
   ]
  },
  {
   "cell_type": "code",
   "execution_count": 2,
   "metadata": {},
   "outputs": [
    {
     "data": {
      "text/plain": [
       "<All keys matched successfully>"
      ]
     },
     "execution_count": 2,
     "metadata": {},
     "output_type": "execute_result"
    }
   ],
   "source": [
    "model=InteractionNetwork()\n",
    "model.load_state_dict(torch.load(\"../data/model/IN_sythesized.pth\"))"
   ]
  },
  {
   "cell_type": "markdown",
   "metadata": {},
   "source": [
    "end of load pretrained model\n",
    "<hr>\n",
    "get data"
   ]
  },
  {
   "cell_type": "code",
   "execution_count": 52,
   "metadata": {},
   "outputs": [
    {
     "data": {
      "text/plain": [
       "Data(batch=[10], edge_index=[2, 90], x=[10, 48], y=[1, 2])"
      ]
     },
     "execution_count": 52,
     "metadata": {},
     "output_type": "execute_result"
    }
   ],
   "source": [
    "b=torch.load(\"../data/test_sytehsized.pt\")\n",
    "g=b[1]\n",
    "g.batch=torch.tensor(np.zeros(g.x.shape[0]).astype(\"int64\"))\n",
    "g"
   ]
  },
  {
   "cell_type": "markdown",
   "metadata": {},
   "source": [
    "end of get data<hr>"
   ]
  },
  {
   "cell_type": "markdown",
   "metadata": {},
   "source": [
    "functions copied from `src.util`"
   ]
  },
  {
   "cell_type": "code",
   "execution_count": 53,
   "metadata": {},
   "outputs": [],
   "source": [
    "def copy_layer(layer):\n",
    "    \"\"\"\n",
    "    create a deep copy of provided layer\n",
    "    \"\"\"\n",
    "    layer_cp=eval(\"nn.\"+layer.__repr__())\n",
    "    layer_cp.load_state_dict(layer.state_dict())\n",
    "    \n",
    "    return layer_cp"
   ]
  },
  {
   "cell_type": "code",
   "execution_count": 54,
   "metadata": {},
   "outputs": [],
   "source": [
    "copy_tensor=lambda x: torch.tensor(x.clone().detach().numpy(),requires_grad=True,dtype=torch.float32)"
   ]
  },
  {
   "cell_type": "code",
   "execution_count": 55,
   "metadata": {},
   "outputs": [
    {
     "name": "stdout",
     "output_type": "stream",
     "text": [
      "edge_mlp.0 Linear(in_features=96, out_features=128, bias=True)\n",
      "edge_mlp.1 BatchNorm1d(128, eps=1e-05, momentum=0.1, affine=True, track_running_stats=True)\n",
      "edge_mlp.2 ReLU()\n",
      "edge_mlp.3 Linear(in_features=128, out_features=128, bias=True)\n",
      "node_mlp_1.0 Linear(in_features=176, out_features=128, bias=True)\n",
      "node_mlp_1.1 BatchNorm1d(128, eps=1e-05, momentum=0.1, affine=True, track_running_stats=True)\n",
      "node_mlp_1.2 ReLU()\n",
      "node_mlp_1.3 Linear(in_features=128, out_features=128, bias=True)\n",
      "node_mlp_2.0 Linear(in_features=176, out_features=128, bias=True)\n",
      "node_mlp_2.1 BatchNorm1d(128, eps=1e-05, momentum=0.1, affine=True, track_running_stats=True)\n",
      "node_mlp_2.2 ReLU()\n",
      "node_mlp_2.3 Linear(in_features=128, out_features=128, bias=True)\n",
      "global_mlp.0 Linear(in_features=128, out_features=128, bias=True)\n",
      "global_mlp.1 BatchNorm1d(128, eps=1e-05, momentum=0.1, affine=True, track_running_stats=True)\n",
      "global_mlp.2 ReLU()\n",
      "global_mlp.3 Linear(in_features=128, out_features=2, bias=True)\n"
     ]
    }
   ],
   "source": [
    "for i in (model.interactionnetwork.children()):\n",
    "    for n,j in i.named_modules():\n",
    "        if n and n[-1].isnumeric() and (\".\" in n):\n",
    "            print(n,j.__repr__())"
   ]
  },
  {
   "cell_type": "markdown",
   "metadata": {},
   "source": [
    "layer name `n` ends with 0-2 -> joint together, rectified linear layer\n",
    "layer name `n` ends with 3 -> standalone linear layer\n",
    "\n",
    "`R2` (`node_mlp_1.0-2`) and `R4` (`node_mlp_2.0-2`) contains partial relevance score of input `x`"
   ]
  },
  {
   "cell_type": "code",
   "execution_count": 56,
   "metadata": {},
   "outputs": [
    {
     "data": {
      "text/plain": [
       "{'L0': Sequential(\n",
       "   (0): Linear(in_features=96, out_features=128, bias=True)\n",
       "   (1): BatchNorm1d(128, eps=1e-05, momentum=0.1, affine=True, track_running_stats=True)\n",
       "   (2): ReLU()\n",
       " ),\n",
       " 'L1': Linear(in_features=128, out_features=128, bias=True),\n",
       " 'L2': Sequential(\n",
       "   (0): Linear(in_features=176, out_features=128, bias=True)\n",
       "   (1): BatchNorm1d(128, eps=1e-05, momentum=0.1, affine=True, track_running_stats=True)\n",
       "   (2): ReLU()\n",
       " ),\n",
       " 'L3': Linear(in_features=128, out_features=128, bias=True),\n",
       " 'L4': Sequential(\n",
       "   (0): Linear(in_features=176, out_features=128, bias=True)\n",
       "   (1): BatchNorm1d(128, eps=1e-05, momentum=0.1, affine=True, track_running_stats=True)\n",
       "   (2): ReLU()\n",
       " ),\n",
       " 'L5': Linear(in_features=128, out_features=128, bias=True),\n",
       " 'L6': Sequential(\n",
       "   (0): Linear(in_features=128, out_features=128, bias=True)\n",
       "   (1): BatchNorm1d(128, eps=1e-05, momentum=0.1, affine=True, track_running_stats=True)\n",
       "   (2): ReLU()\n",
       " ),\n",
       " 'L7': Linear(in_features=128, out_features=2, bias=True)}"
      ]
     },
     "execution_count": 56,
     "metadata": {},
     "output_type": "execute_result"
    }
   ],
   "source": [
    "layers={}\n",
    "cnt=0\n",
    "for i in (model.interactionnetwork.children()):\n",
    "    layer=[]\n",
    "    for n,j in i.named_modules():\n",
    "        if n and n[-1].isnumeric() and (\".\" in n):\n",
    "            if n[-1] in [\"0\",\"1\",\"2\"]:\n",
    "                layer.append(copy_layer(j))\n",
    "            else:\n",
    "                layers[f\"L{cnt}\"]=Seq(*layer)\n",
    "                layer=[]\n",
    "                cnt+=1\n",
    "                \n",
    "                layers[f\"L{cnt}\"]=copy_layer(j)\n",
    "                cnt+=1\n",
    "layers"
   ]
  },
  {
   "cell_type": "code",
   "execution_count": 57,
   "metadata": {},
   "outputs": [],
   "source": [
    "row,col=g.edge_index\n",
    "n_tracks=g.x.shape[0]\n",
    "x=nn.BatchNorm1d(48)(g.x)\n",
    "x=copy_tensor(torch.cat([x[row],x[col]],1))"
   ]
  },
  {
   "cell_type": "code",
   "execution_count": 58,
   "metadata": {},
   "outputs": [],
   "source": [
    "activations={}\n",
    "activations[\"a0\"]=layers[\"L0\"].forward(x)"
   ]
  },
  {
   "cell_type": "code",
   "execution_count": 59,
   "metadata": {},
   "outputs": [],
   "source": [
    "M_col=torch.zeros(col.shape[0],n_tracks,dtype=torch.float32)\n",
    "for i,j in enumerate(col):\n",
    "    M_col[i,j]=1\n",
    "M_col=M_col.T"
   ]
  },
  {
   "cell_type": "code",
   "execution_count": 60,
   "metadata": {},
   "outputs": [],
   "source": [
    "M_row=torch.zeros(row.shape[0],n_tracks,dtype=torch.float32)\n",
    "for i,j in enumerate(row):\n",
    "    M_row[i,j]=1\n",
    "M_row=M_row.T"
   ]
  },
  {
   "cell_type": "code",
   "execution_count": 61,
   "metadata": {},
   "outputs": [],
   "source": [
    "for i in range(1,len(layers.keys())):\n",
    "    if i==2:\n",
    "        #a1->a1'\n",
    "        a=copy_tensor(torch.cat([g.x[row],activations[f\"a{i-1}\"]],1))           # [x[row],a1]\n",
    "    elif i==4:\n",
    "        #a3->a3'\n",
    "#         a=copy_tensor(torch.cat([g.x,M_col@activations[f\"a{i-1}\"]/n_tracks],1)) # g.x,scatter_mean(a3,col,dim=0)\n",
    "        a=copy_tensor(torch.cat([g.x,\n",
    "                                 scatter_mean(activations[f\"a{i-1}\"], col, dim=0, dim_size=g.x.size(0))\n",
    "                                ],1)) # g.x,scatter_mean(a3,col,dim=0)\n",
    "    elif i==6:\n",
    "        #a5->a5'\n",
    "        layers[f\"L{i}\"].eval()\n",
    "        a=copy_tensor(scatter_mean(activations[f\"a{i-1}\"],g.batch,dim=0))   # mean of all tracks\n",
    "    else:\n",
    "        a=copy_tensor(activations[f\"a{i-1}\"])\n",
    "    \n",
    "    activations[f\"a{i}\"]=layers[f\"L{i}\"].forward(a)"
   ]
  },
  {
   "cell_type": "code",
   "execution_count": 62,
   "metadata": {},
   "outputs": [
    {
     "name": "stdout",
     "output_type": "stream",
     "text": [
      "a0 torch.Size([90, 128])\n",
      "a1 torch.Size([90, 128])\n",
      "a2 torch.Size([90, 128])\n",
      "a3 torch.Size([90, 128])\n",
      "a4 torch.Size([10, 128])\n",
      "a5 torch.Size([10, 128])\n",
      "a6 torch.Size([1, 128])\n",
      "a7 torch.Size([1, 2])\n"
     ]
    }
   ],
   "source": [
    "for k in activations.keys():\n",
    "    print(k,activations[k].shape)"
   ]
  },
  {
   "cell_type": "code",
   "execution_count": 63,
   "metadata": {},
   "outputs": [
    {
     "data": {
      "text/plain": [
       "{'R8': tensor([[ 0.0000, -2.5398]], requires_grad=True)}"
      ]
     },
     "execution_count": 63,
     "metadata": {},
     "output_type": "execute_result"
    }
   ],
   "source": [
    "u=activations[\"a7\"]\n",
    "\n",
    "R={}\n",
    "R[f\"R{8}\"]=copy_tensor(u@torch.tensor([[0,0],[0,1]],dtype=torch.float32))\n",
    "R"
   ]
  },
  {
   "cell_type": "code",
   "execution_count": 64,
   "metadata": {},
   "outputs": [],
   "source": [
    "def LRP(a,l,r,epsilon=1e-9):\n",
    "    a=torch.tensor(a.clone().detach().numpy(),\n",
    "                      requires_grad=True,dtype=torch.float32)\n",
    "    a.retain_grad()\n",
    "    \n",
    "    z=l.forward(a)\n",
    "    s=r/(z+epsilon)\n",
    "    \n",
    "    (z*s.data).sum().backward()\n",
    "    c=a.grad\n",
    "    \n",
    "    return a*c"
   ]
  },
  {
   "cell_type": "code",
   "execution_count": 65,
   "metadata": {},
   "outputs": [],
   "source": [
    "activations[\"a-1\"]=x\n",
    "\n",
    "for i in range(len(layers.keys())-1,-1,-1):\n",
    "    a=activations[f\"a{i-1}\"]\n",
    "    r=R[f\"R{i+1}\"]\n",
    "    l=layers[f\"L{i}\"]\n",
    "  \n",
    "    if i==2:\n",
    "        # a1->a1'\n",
    "        a=copy_tensor(torch.cat([g.x[row],a],1))\n",
    "        r=LRP(a,l,r)\n",
    "        \n",
    "        # r_x[row],r2'\n",
    "        r_src,r=r[:,:48],r[:,48:] \n",
    "        R[f\"R{i}_src\"]=r_src\n",
    "\n",
    "    elif i==4:\n",
    "        # a3->a3'\n",
    "        a=copy_tensor(torch.cat([g.x,M_col@a/n_tracks],1))\n",
    "        r=LRP(a,l,r)\n",
    "        \n",
    "        r_x,r=r[:,:48],r[:,48:]\n",
    "        R[f\"R{i}_x\"]=r_x\n",
    "        r=r[col]/n_tracks\n",
    "    elif i==6:\n",
    "        # a5->a5'\n",
    "        a=copy_tensor((torch.ones(1,n_tracks)@a/n_tracks))\n",
    "        r=LRP(a,l,r)\n",
    "        \n",
    "    else:\n",
    "        a=copy_tensor(a)\n",
    "        r=LRP(a,l,r)\n",
    "        \n",
    "    R[f\"R{i}\"]=r"
   ]
  },
  {
   "cell_type": "code",
   "execution_count": 66,
   "metadata": {},
   "outputs": [
    {
     "name": "stdout",
     "output_type": "stream",
     "text": [
      "R8 torch.Size([1, 2]) tensor(-2.5398, grad_fn=<SumBackward0>)\n",
      "R7 torch.Size([1, 128]) tensor(-2.2044, grad_fn=<SumBackward0>)\n",
      "R6 torch.Size([1, 128]) tensor(6.3145, grad_fn=<SumBackward0>)\n",
      "R5 torch.Size([10, 128]) tensor(72.5457, grad_fn=<SumBackward0>)\n",
      "R4_x torch.Size([10, 48]) tensor(-12.3677, grad_fn=<SumBackward0>)\n",
      "R4 torch.Size([90, 128]) tensor(11.1309, grad_fn=<SumBackward0>)\n",
      "R3 torch.Size([90, 128]) tensor(38.3843, grad_fn=<SumBackward0>)\n",
      "R2_src torch.Size([90, 48]) tensor(141.7351, grad_fn=<SumBackward0>)\n",
      "R2 torch.Size([90, 128]) tensor(-141.7352, grad_fn=<SumBackward0>)\n",
      "R1 torch.Size([90, 128]) tensor(-141.7354, grad_fn=<SumBackward0>)\n",
      "R0 torch.Size([90, 96]) tensor(-0.0008, grad_fn=<SumBackward0>)\n"
     ]
    }
   ],
   "source": [
    "for k in R.keys():\n",
    "    print(k,R[k].shape,R[k].sum())"
   ]
  },
  {
   "cell_type": "code",
   "execution_count": 67,
   "metadata": {},
   "outputs": [
    {
     "data": {
      "text/plain": [
       "tensor([[ 1.3825e+00,  9.2916e-02,  4.7445e-02,  ..., -3.3017e-01,\n",
       "          1.0863e+00, -1.6913e-03],\n",
       "        [ 9.9386e-01,  2.0915e-01, -6.2826e-03,  ...,  4.8551e-01,\n",
       "         -2.4719e-01,  2.2526e-01],\n",
       "        [ 1.4031e+00,  1.4675e-01, -5.0228e-03,  ..., -2.9452e-01,\n",
       "          6.2283e-01, -2.3496e-01],\n",
       "        ...,\n",
       "        [ 2.6877e-01,  2.0265e-01, -1.0716e+00,  ..., -3.4730e+00,\n",
       "         -4.2711e-01, -3.8195e-02],\n",
       "        [ 3.1026e-02,  5.4917e-02, -1.0785e-01,  ...,  2.9186e-01,\n",
       "          1.1257e+00,  2.1162e-01],\n",
       "        [ 5.8886e-01,  5.1097e-01, -1.1083e+00,  ...,  2.0439e+00,\n",
       "          1.2681e+00, -6.0768e-01]], grad_fn=<MulBackward0>)"
      ]
     },
     "execution_count": 67,
     "metadata": {},
     "output_type": "execute_result"
    }
   ],
   "source": [
    "R[\"R0\"]"
   ]
  },
  {
   "cell_type": "code",
   "execution_count": 68,
   "metadata": {},
   "outputs": [
    {
     "data": {
      "text/plain": [
       "(torch.Size([10, 48]), tensor(1026.7058, grad_fn=<SumBackward0>))"
      ]
     },
     "execution_count": 68,
     "metadata": {},
     "output_type": "execute_result"
    }
   ],
   "source": [
    "r=(((M_row@R[\"R0\"][:,:48]))+(M_row@R[\"R2_src\"])+R[\"R4_x\"])\n",
    "r.shape,r.sum()"
   ]
  },
  {
   "cell_type": "code",
   "execution_count": null,
   "metadata": {},
   "outputs": [],
   "source": []
  },
  {
   "cell_type": "markdown",
   "metadata": {},
   "source": [
    "<hr>\n",
    "\n",
    "## Plot"
   ]
  },
  {
   "cell_type": "code",
   "execution_count": 69,
   "metadata": {},
   "outputs": [],
   "source": [
    "import pandas as pd\n",
    "import seaborn as sns\n",
    "import matplotlib.pyplot as plt\n",
    "import matplotlib.ticker as ticker\n",
    "\n",
    "%matplotlib inline\n",
    "%config InlineBackend.figure_format='retina'"
   ]
  },
  {
   "cell_type": "code",
   "execution_count": 70,
   "metadata": {},
   "outputs": [],
   "source": [
    "sns.set(style=\"white\")"
   ]
  },
  {
   "cell_type": "code",
   "execution_count": 71,
   "metadata": {},
   "outputs": [
    {
     "data": {
      "image/png": "[encoded data removed]",
      "text/plain": [
       "<Figure size 864x576 with 2 Axes>"
      ]
     },
     "metadata": {
      "image/png": {
       "height": 232,
       "width": 650
      }
     },
     "output_type": "display_data"
    }
   ],
   "source": [
    "val=r.detach().cpu().numpy()\n",
    "df=pd.DataFrame(val,columns=np.arange(48))\n",
    "\n",
    "# Set up the matplotlib figure\n",
    "f, ax = plt.subplots(figsize=(12,8))\n",
    "\n",
    "# Generate a custom diverging colormap\n",
    "cmap = sns.diverging_palette(240, 10, as_cmap=True)\n",
    "\n",
    "# Draw the heatmap with the mask and correct aspect ratio\n",
    "s=sns.heatmap(df, cmap=cmap, center=0,xticklabels=1,\n",
    "            square=True, linewidths=0.01, cbar_kws={\"shrink\": .5})\n",
    "\n",
    "s.tick_params(labelsize=7)\n",
    "\n",
    "if g.y[:,1]>0:\n",
    "    plt.title(\"source node feature relevance of a signal data sample\")\n",
    "else:\n",
    "    plt.title(\"source node feature relevance of a background data sample\")\n",
    "\n",
    "plt.show()"
   ]
  },
  {
   "cell_type": "code",
   "execution_count": null,
   "metadata": {},
   "outputs": [],
   "source": []
  }
 ],
 "metadata": {
  "kernelspec": {
   "display_name": "Python 3",
   "language": "python",
   "name": "python3"
  },
  "language_info": {
   "codemirror_mode": {
    "name": "ipython",
    "version": 3
   },
   "file_extension": ".py",
   "mimetype": "text/x-python",
   "name": "python",
   "nbconvert_exporter": "python",
   "pygments_lexer": "ipython3",
   "version": "3.7.6"
  }
 },
 "nbformat": 4,
 "nbformat_minor": 4
}
