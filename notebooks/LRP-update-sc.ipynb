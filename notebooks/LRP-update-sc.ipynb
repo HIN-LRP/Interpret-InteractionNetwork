{
 "cells": [
  {
   "cell_type": "code",
   "execution_count": 1,
   "metadata": {},
   "outputs": [],
   "source": [
    "import torch\n",
    "import torch.nn as nn\n",
    "from torch.nn import Sequential as Seq,Linear,ReLU,BatchNorm1d\n",
    "from torch_scatter import scatter_mean\n",
    "\n",
    "import numpy as np\n",
    "import matplotlib\n",
    "import matplotlib.pyplot as plt\n",
    "\n",
    "from InteractionNetwork import InteractionNetwork"
   ]
  },
  {
   "cell_type": "code",
   "execution_count": 2,
   "metadata": {},
   "outputs": [],
   "source": [
    "import numpy"
   ]
  },
  {
   "cell_type": "markdown",
   "metadata": {},
   "source": [
    "<hr>\n",
    "load pretrained model"
   ]
  },
  {
   "cell_type": "code",
   "execution_count": 4,
   "metadata": {},
   "outputs": [
    {
     "data": {
      "text/plain": [
       "<All keys matched successfully>"
      ]
     },
     "execution_count": 4,
     "metadata": {},
     "output_type": "execute_result"
    }
   ],
   "source": [
    "model=InteractionNetwork()\n",
    "model.load_state_dict(torch.load(\"../data/model/IN_sythesized.pth\"))"
   ]
  },
  {
   "cell_type": "markdown",
   "metadata": {},
   "source": [
    "end of load pretrained model\n",
    "<hr>\n",
    "get data"
   ]
  },
  {
   "cell_type": "code",
   "execution_count": 5,
   "metadata": {},
   "outputs": [
    {
     "data": {
      "text/plain": [
       "Data(batch=[10], edge_index=[2, 90], x=[10, 48], y=[1, 2])"
      ]
     },
     "execution_count": 5,
     "metadata": {},
     "output_type": "execute_result"
    }
   ],
   "source": [
    "b=torch.load(\"../data/test_sytehsized.pt\")\n",
    "g=b[1]\n",
    "g.batch=torch.tensor(np.zeros(g.x.shape[0]).astype(\"int64\"))\n",
    "g"
   ]
  },
  {
   "cell_type": "code",
   "execution_count": 6,
   "metadata": {},
   "outputs": [],
   "source": [
    "row,col=g.edge_index"
   ]
  },
  {
   "cell_type": "code",
   "execution_count": 7,
   "metadata": {},
   "outputs": [
    {
     "data": {
      "text/plain": [
       "tensor([[1., 0.]])"
      ]
     },
     "execution_count": 7,
     "metadata": {},
     "output_type": "execute_result"
    }
   ],
   "source": [
    "g.y"
   ]
  },
  {
   "cell_type": "markdown",
   "metadata": {},
   "source": [
    "end of get data<hr>"
   ]
  },
  {
   "cell_type": "markdown",
   "metadata": {},
   "source": [
    "functions copied from `src.util`"
   ]
  },
  {
   "cell_type": "code",
   "execution_count": 8,
   "metadata": {},
   "outputs": [],
   "source": [
    "def copy_layer(layer):\n",
    "    \"\"\"\n",
    "    create a deep copy of provided layer\n",
    "    \"\"\"\n",
    "    layer_cp=eval(\"nn.\"+layer.__repr__())\n",
    "    layer_cp.load_state_dict(layer.state_dict())\n",
    "    \n",
    "    return layer_cp"
   ]
  },
  {
   "cell_type": "code",
   "execution_count": 9,
   "metadata": {},
   "outputs": [],
   "source": [
    "copy_tensor=lambda x: torch.tensor(x.clone().detach().numpy(),requires_grad=True,dtype=torch.float32)"
   ]
  },
  {
   "cell_type": "code",
   "execution_count": 10,
   "metadata": {},
   "outputs": [],
   "source": [
    "L=dict()\n",
    "hook_handles=[]\n",
    "A=dict()\n",
    "C=dict()\n",
    "\n",
    "\n",
    "# def make_backward_hook(name):\n",
    "#     def get_grad(grad):\n",
    "#         C[name]=grad.data\n",
    "        \n",
    "#         return grad\n",
    "#     return make_backward_hook\n",
    "\n",
    "\n",
    "def make_forward_hook(name):\n",
    "    def get_activations(self,inputs,outputs):\n",
    "        assert len(inputs)==1\n",
    "        inputs=inputs[0]\n",
    "#         inputs.retain_grad()\n",
    "#         hook=make_backward_hook(name)\n",
    "#         hook_handles.append(inputs.register_hook(hook))\n",
    "        \n",
    "        A[name]=copy_tensor(inputs)\n",
    "        \n",
    "    return get_activations\n",
    "\n",
    "\n",
    "\n",
    "def get_layers(name,model):\n",
    "    l=list(model.named_children())\n",
    "    \n",
    "    if len(l)==0:\n",
    "        L[name]=model\n",
    "        hook=make_forward_hook(name)\n",
    "        hook_handles.append(model.register_forward_hook(hook))\n",
    "    else:\n",
    "        l=list(model.named_children())\n",
    "        for i in l:\n",
    "            get_layers(name+\".\"+i[0],i[1])\n",
    "\n",
    "[h.remove() for h in hook_handles]\n",
    "get_layers(\"\",model)"
   ]
  },
  {
   "cell_type": "code",
   "execution_count": 15,
   "metadata": {},
   "outputs": [
    {
     "data": {
      "text/plain": [
       "tensor([[ 0.5154, -0.3607]], grad_fn=<AddmmBackward>)"
      ]
     },
     "execution_count": 15,
     "metadata": {},
     "output_type": "execute_result"
    }
   ],
   "source": [
    "model.eval()\n",
    "u,_=model.forward(g.x,g.edge_index,g.batch)\n",
    "u"
   ]
  },
  {
   "cell_type": "code",
   "execution_count": 16,
   "metadata": {},
   "outputs": [
    {
     "name": "stdout",
     "output_type": "stream",
     "text": [
      "0 .bn torch.Size([10, 48])\n",
      "1 .interactionnetwork.edge_model.edge_mlp.0 torch.Size([90, 96])\n",
      "2 .interactionnetwork.edge_model.edge_mlp.1 torch.Size([90, 128])\n",
      "3 .interactionnetwork.edge_model.edge_mlp.2 torch.Size([90, 128])\n",
      "4 .interactionnetwork.edge_model.edge_mlp.3 torch.Size([90, 128])\n",
      "5 .interactionnetwork.node_model.node_mlp_1.0 torch.Size([90, 176])\n",
      "6 .interactionnetwork.node_model.node_mlp_1.1 torch.Size([90, 128])\n",
      "7 .interactionnetwork.node_model.node_mlp_1.2 torch.Size([90, 128])\n",
      "8 .interactionnetwork.node_model.node_mlp_1.3 torch.Size([90, 128])\n",
      "9 .interactionnetwork.node_model.node_mlp_2.0 torch.Size([10, 176])\n",
      "10 .interactionnetwork.node_model.node_mlp_2.1 torch.Size([10, 128])\n",
      "11 .interactionnetwork.node_model.node_mlp_2.2 torch.Size([10, 128])\n",
      "12 .interactionnetwork.node_model.node_mlp_2.3 torch.Size([10, 128])\n",
      "13 .interactionnetwork.global_model.global_mlp.0 torch.Size([1, 128])\n",
      "14 .interactionnetwork.global_model.global_mlp.1 torch.Size([1, 128])\n",
      "15 .interactionnetwork.global_model.global_mlp.2 torch.Size([1, 128])\n",
      "16 .interactionnetwork.global_model.global_mlp.3 torch.Size([1, 128])\n"
     ]
    }
   ],
   "source": [
    "_A={}\n",
    "\n",
    "for i,n in enumerate(A.keys()):\n",
    "    print(i,n,A[n].shape)\n",
    "    _A[i]=A[n]"
   ]
  },
  {
   "cell_type": "code",
   "execution_count": 18,
   "metadata": {},
   "outputs": [
    {
     "data": {
      "text/plain": [
       "tensor([[ 0.0000, -0.3607]], requires_grad=True)"
      ]
     },
     "execution_count": 18,
     "metadata": {},
     "output_type": "execute_result"
    }
   ],
   "source": [
    "pred=nn.Softmax(dim=1)(u)\n",
    "r={}\n",
    "# r[17]=copy_tensor(pred)\n",
    "r[17]=copy_tensor(u*torch.tensor([0,1],dtype=torch.float32))\n",
    "r[17]"
   ]
  },
  {
   "cell_type": "code",
   "execution_count": 19,
   "metadata": {
    "scrolled": true
   },
   "outputs": [],
   "source": [
    "a=copy_tensor(_A[16])\n",
    "a.retain_grad()\n",
    "layer=L[\".interactionnetwork.global_model.global_mlp.3\"]\n",
    "\n",
    "z=layer.forward(a)\n",
    "s=r[17]/(z+1e-9)\n",
    "\n",
    "(z*s.data).sum().backward()\n",
    "\n",
    "c=a.grad\n",
    "r[16]=a*c"
   ]
  },
  {
   "cell_type": "code",
   "execution_count": 20,
   "metadata": {},
   "outputs": [
    {
     "data": {
      "text/plain": [
       "tensor(-0.0253, grad_fn=<SumBackward0>)"
      ]
     },
     "execution_count": 20,
     "metadata": {},
     "output_type": "execute_result"
    }
   ],
   "source": [
    "r[16].sum()"
   ]
  },
  {
   "cell_type": "code",
   "execution_count": 25,
   "metadata": {},
   "outputs": [],
   "source": [
    "a=copy_tensor(_A[15])\n",
    "a.retain_grad()\n",
    "layer=L[\".interactionnetwork.global_model.global_mlp.2\"]\n",
    "\n",
    "z=layer.forward(a)\n",
    "s=r[16]/(z+1e-9)\n",
    "\n",
    "(z*s.data).sum().backward()\n",
    "\n",
    "c=a.grad\n",
    "r[15]=a*c"
   ]
  },
  {
   "cell_type": "code",
   "execution_count": 26,
   "metadata": {},
   "outputs": [
    {
     "data": {
      "text/plain": [
       "tensor(-0.0253, grad_fn=<SumBackward0>)"
      ]
     },
     "execution_count": 26,
     "metadata": {},
     "output_type": "execute_result"
    }
   ],
   "source": [
    "r[15].sum()"
   ]
  },
  {
   "attachments": {
    "image.png": {
     "image/png": "[encoded data removed]"
    }
   },
   "cell_type": "markdown",
   "metadata": {},
   "source": [
    "![image.png](attachment:image.png)"
   ]
  },
  {
   "cell_type": "code",
   "execution_count": 27,
   "metadata": {},
   "outputs": [],
   "source": [
    "# w=copy_tensor(L[\".interactionnetwork.global_model.global_mlp.0\"].weight.data)\n",
    "# b=copy_tensor(L[\".interactionnetwork.global_model.global_mlp.0\"].bias.data)\n",
    "\n",
    "# gamma=copy_tensor(L[\".interactionnetwork.global_model.global_mlp.1\"].weight.data)\n",
    "# beta=copy_tensor(L[\".interactionnetwork.global_model.global_mlp.1\"].bias.data)\n",
    "\n",
    "# sigma=copy_tensor(((L[\".interactionnetwork.global_model.global_mlp.1\"].running_var+1e-5)**0.5).data)\n",
    "# miu=copy_tensor((L[\".interactionnetwork.global_model.global_mlp.1\"].running_mean).data)\n",
    "\n",
    "# layer=Linear(in_features=128,out_features=128)\n",
    "# state=layer.state_dict()\n",
    "\n",
    "# state[\"weight\"]=copy_tensor(\n",
    "#     (w.T*gamma/sigma).T\n",
    "# ).data\n",
    "# state[\"bias\"]=copy_tensor(beta+gamma*(b-miu)/sigma).data\n",
    "\n",
    "# layer.load_state_dict(state)\n",
    "\n",
    "\n",
    "# a=copy_tensor(A[\".interactionnetwork.global_model.global_mlp.0\"].data)\n",
    "# a.retain_grad()\n",
    "\n",
    "# z=layer.forward(a)\n",
    "# s=r[15]/(z+1e-9)\n",
    "\n",
    "# (z*s.data).sum().backward()\n",
    "\n",
    "# c=a.grad\n",
    "\n",
    "# r[13]=a*c\n",
    "# (r[13]).sum()"
   ]
  },
  {
   "attachments": {
    "image.png": {
     "image/png": "[encoded data removed]"
    }
   },
   "cell_type": "markdown",
   "metadata": {},
   "source": [
    "|z|-rule for batchnorm layer\n",
    "\n",
    "![image.png](attachment:image.png)"
   ]
  },
  {
   "cell_type": "code",
   "execution_count": 28,
   "metadata": {},
   "outputs": [
    {
     "data": {
      "text/plain": [
       "tensor(-0.0231, grad_fn=<SumBackward0>)"
      ]
     },
     "execution_count": 28,
     "metadata": {},
     "output_type": "execute_result"
    }
   ],
   "source": [
    "def f(X,Rk):\n",
    "    Ri=torch.zeros(*X.shape)\n",
    "    for i in range(X.shape[0]):\n",
    "        x=X[i,:]\n",
    "        n=x*w\n",
    "        d=x*w+torch.abs(b)*torch.sign(x*w)\n",
    "        Ri[i,:]=(n/d)*Rk[i,:]\n",
    "        \n",
    "    return Ri\n",
    "\n",
    "w=copy_tensor(L[\".interactionnetwork.global_model.global_mlp.1\"].weight.data)\n",
    "b=copy_tensor(L[\".interactionnetwork.global_model.global_mlp.1\"].bias.data)\n",
    "a=copy_tensor(A[\".interactionnetwork.global_model.global_mlp.1\"].data)\n",
    "\n",
    "result=f(a,r[15])\n",
    "result.sum()"
   ]
  },
  {
   "cell_type": "code",
   "execution_count": 29,
   "metadata": {},
   "outputs": [
    {
     "name": "stdout",
     "output_type": "stream",
     "text": [
      "tensor(-0.0231, grad_fn=<SumBackward0>)\n",
      "tensor(-0.0232, grad_fn=<SumBackward0>)\n"
     ]
    }
   ],
   "source": [
    "w=copy_tensor(L[\".interactionnetwork.global_model.global_mlp.1\"].weight.data)\n",
    "b=copy_tensor(L[\".interactionnetwork.global_model.global_mlp.1\"].bias.data)\n",
    "\n",
    "\n",
    "def f(x):\n",
    "    x.retain_grad()\n",
    "    \n",
    "    n=x*w\n",
    "    d=n+b*torch.sign(n)*torch.sign(b)\n",
    "    \n",
    "    return n/d\n",
    "\n",
    "\n",
    "a=copy_tensor(A[\".interactionnetwork.global_model.global_mlp.1\"].data)\n",
    "frac=f(a)\n",
    "r[14]=frac*r[15]\n",
    "\n",
    "print(r[14].sum())\n",
    "\n",
    "\n",
    "\n",
    "\n",
    "a=copy_tensor(A[\".interactionnetwork.global_model.global_mlp.0\"])\n",
    "a.retain_grad()\n",
    "layer=L[\".interactionnetwork.global_model.global_mlp.0\"]\n",
    "\n",
    "z=layer.forward(a)\n",
    "s=r[14]/(z+1e-9)\n",
    "\n",
    "(z*s.data).sum().backward()\n",
    "\n",
    "c=a.grad\n",
    "r[13]=a*c\n",
    "\n",
    "print(r[13].sum())"
   ]
  },
  {
   "cell_type": "code",
   "execution_count": 30,
   "metadata": {},
   "outputs": [
    {
     "data": {
      "text/plain": [
       "tensor(-0.0232, grad_fn=<SumBackward0>)"
      ]
     },
     "execution_count": 30,
     "metadata": {},
     "output_type": "execute_result"
    }
   ],
   "source": [
    "n_tracks=g.x.shape[0]\n",
    "r_scatter=r[13].repeat(n_tracks,1)/n_tracks\n",
    "r_scatter.sum()"
   ]
  },
  {
   "cell_type": "code",
   "execution_count": 31,
   "metadata": {},
   "outputs": [],
   "source": [
    "n_tracks=g.x.shape[0]\n",
    "r_scatter=r[13].repeat(n_tracks,1)/n_tracks\n",
    "\n",
    "a=copy_tensor(A[\".interactionnetwork.node_model.node_mlp_2.3\"])\n",
    "a.retain_grad()\n",
    "layer=L[\".interactionnetwork.node_model.node_mlp_2.3\"]\n",
    "\n",
    "z=layer.forward(a)\n",
    "s=r_scatter/(z+1e-9)\n",
    "\n",
    "(z*s.data).sum().backward()\n",
    "\n",
    "c=a.grad\n",
    "r[12]=a*c"
   ]
  },
  {
   "cell_type": "code",
   "execution_count": 32,
   "metadata": {},
   "outputs": [],
   "source": [
    "a=copy_tensor(A[\".interactionnetwork.node_model.node_mlp_2.2\"])\n",
    "a.retain_grad()\n",
    "layer=L[\".interactionnetwork.node_model.node_mlp_2.2\"]\n",
    "\n",
    "z=layer.forward(a)\n",
    "s=r[12]/(z+1e-9)\n",
    "\n",
    "(z*s.data).sum().backward()\n",
    "\n",
    "c=a.grad\n",
    "r[11]=a*c"
   ]
  },
  {
   "cell_type": "code",
   "execution_count": 33,
   "metadata": {},
   "outputs": [],
   "source": [
    "# w=copy_tensor(L[\".interactionnetwork.node_model.node_mlp_2.0\"].weight.data)\n",
    "# b=copy_tensor(L[\".interactionnetwork.node_model.node_mlp_2.0\"].bias.data)\n",
    "\n",
    "# gamma=copy_tensor(L[\".interactionnetwork.node_model.node_mlp_2.1\"].weight.data)\n",
    "# beta=copy_tensor(L[\".interactionnetwork.node_model.node_mlp_2.1\"].bias.data)\n",
    "\n",
    "# sigma=copy_tensor(((L[\".interactionnetwork.node_model.node_mlp_2.1\"].running_var+1e-5)**0.5).data)\n",
    "# miu=copy_tensor((L[\".interactionnetwork.node_model.node_mlp_2.1\"].running_mean).data)\n",
    "\n",
    "# layer=Linear(in_features=48+128,out_features=128)\n",
    "# state=layer.state_dict()\n",
    "# state[\"weight\"]=copy_tensor(\n",
    "#     (w.T*gamma/sigma).T\n",
    "# ).data\n",
    "# state[\"bias\"]=copy_tensor(beta+gamma*(b-miu)/sigma).data\n",
    "# layer.load_state_dict(state)\n",
    "\n",
    "\n",
    "# a=copy_tensor(A[\".interactionnetwork.node_model.node_mlp_2.0\"].data)\n",
    "# a.retain_grad()\n",
    "\n",
    "# z=layer.forward(a)\n",
    "# s=r[11]/(z+1e-9)\n",
    "\n",
    "# (z*s.data).sum().backward()\n",
    "\n",
    "# c=a.grad\n",
    "\n",
    "# r[10]=a*c\n",
    "# (r[10]).sum()"
   ]
  },
  {
   "cell_type": "code",
   "execution_count": 34,
   "metadata": {},
   "outputs": [
    {
     "name": "stdout",
     "output_type": "stream",
     "text": [
      "tensor(-0.0257, grad_fn=<SumBackward0>)\n",
      "tensor(-0.0256, grad_fn=<SumBackward0>)\n"
     ]
    }
   ],
   "source": [
    "w=copy_tensor(L[\".interactionnetwork.node_model.node_mlp_2.1\"].weight.data)\n",
    "b=copy_tensor(L[\".interactionnetwork.node_model.node_mlp_2.1\"].bias.data)\n",
    "\n",
    "\n",
    "def f(x):\n",
    "    x.retain_grad()\n",
    "    \n",
    "    n=x*w\n",
    "    d=n+b*torch.sign(n)*torch.sign(b)\n",
    "    \n",
    "    return n/d\n",
    "\n",
    "\n",
    "a=copy_tensor(A[\".interactionnetwork.node_model.node_mlp_2.1\"].data)\n",
    "frac=f(a)\n",
    "r[10]=frac*r[11]\n",
    "\n",
    "print(r[10].sum())\n",
    "\n",
    "\n",
    "\n",
    "\n",
    "a=copy_tensor(A[\".interactionnetwork.node_model.node_mlp_2.0\"])\n",
    "a.retain_grad()\n",
    "layer=L[\".interactionnetwork.node_model.node_mlp_2.0\"]\n",
    "\n",
    "z=layer.forward(a)\n",
    "s=r[10]/(z+1e-9)\n",
    "\n",
    "(z*s.data).sum().backward()\n",
    "\n",
    "c=a.grad\n",
    "r[9]=a*c\n",
    "\n",
    "print(r[9].sum())"
   ]
  },
  {
   "cell_type": "code",
   "execution_count": 35,
   "metadata": {},
   "outputs": [
    {
     "name": "stdout",
     "output_type": "stream",
     "text": [
      "tensor(-0.0240, grad_fn=<SumBackward0>) tensor(-0.0016, grad_fn=<SumBackward0>)\n",
      "tensor(-0.0239, grad_fn=<SumBackward0>)\n"
     ]
    }
   ],
   "source": [
    "# r split to two paths\n",
    "r_x,r_=r[9][:,:48],r[9][:,48:]\n",
    "r_=r_[col]/(n_tracks-1)\n",
    "print(r_.sum(),r_x.sum())\n",
    "\n",
    "a=copy_tensor(A[\".interactionnetwork.node_model.node_mlp_1.3\"])\n",
    "a.retain_grad()\n",
    "layer=L[\".interactionnetwork.node_model.node_mlp_1.3\"]\n",
    "\n",
    "z=layer.forward(a)\n",
    "s=r_/(z+1e-9)\n",
    "\n",
    "(z*s.data).sum().backward()\n",
    "\n",
    "c=a.grad\n",
    "r[8]=a*c\n",
    "\n",
    "print(r[8].sum())"
   ]
  },
  {
   "cell_type": "code",
   "execution_count": 36,
   "metadata": {},
   "outputs": [],
   "source": [
    "a=copy_tensor(A[\".interactionnetwork.node_model.node_mlp_1.2\"])\n",
    "a.retain_grad()\n",
    "layer=L[\".interactionnetwork.node_model.node_mlp_1.2\"]\n",
    "\n",
    "z=layer.forward(a)\n",
    "s=r[8]/(z+1e-9)\n",
    "\n",
    "(z*s.data).sum().backward()\n",
    "\n",
    "c=a.grad\n",
    "r[7]=a*c"
   ]
  },
  {
   "cell_type": "code",
   "execution_count": 37,
   "metadata": {},
   "outputs": [],
   "source": [
    "# w=copy_tensor(L[\".interactionnetwork.node_model.node_mlp_1.0\"].weight.data)\n",
    "# b=copy_tensor(L[\".interactionnetwork.node_model.node_mlp_1.0\"].bias.data)\n",
    "\n",
    "# gamma=copy_tensor(L[\".interactionnetwork.node_model.node_mlp_1.1\"].weight.data)\n",
    "# beta=copy_tensor(L[\".interactionnetwork.node_model.node_mlp_1.1\"].bias.data)\n",
    "\n",
    "# sigma=copy_tensor(((L[\".interactionnetwork.node_model.node_mlp_1.1\"].running_var+1e-5)**0.5).data)\n",
    "# miu=copy_tensor((L[\".interactionnetwork.node_model.node_mlp_1.1\"].running_mean).data)\n",
    "\n",
    "# layer=Linear(in_features=48+128,out_features=128)\n",
    "# state=layer.state_dict()\n",
    "# state[\"weight\"]=copy_tensor(\n",
    "#     (w.T*gamma/sigma).T\n",
    "# ).data\n",
    "# state[\"bias\"]=copy_tensor(beta+gamma*(b-miu)/sigma).data\n",
    "# layer.load_state_dict(state)\n",
    "\n",
    "\n",
    "# a=copy_tensor(A[\".interactionnetwork.node_model.node_mlp_1.0\"].data)\n",
    "# a.retain_grad()\n",
    "\n",
    "# z=layer.forward(a)\n",
    "# s=r[7]/(z+1e-9)\n",
    "\n",
    "# (z*s.data).sum().backward()\n",
    "\n",
    "# c=a.grad\n",
    "\n",
    "# r[6]=a*c"
   ]
  },
  {
   "cell_type": "code",
   "execution_count": 38,
   "metadata": {
    "scrolled": true
   },
   "outputs": [
    {
     "name": "stdout",
     "output_type": "stream",
     "text": [
      "tensor(-0.0262, grad_fn=<SumBackward0>)\n",
      "tensor(-0.0256, grad_fn=<SumBackward0>)\n"
     ]
    }
   ],
   "source": [
    "w=copy_tensor(L[\".interactionnetwork.node_model.node_mlp_1.1\"].weight.data)\n",
    "b=copy_tensor(L[\".interactionnetwork.node_model.node_mlp_1.1\"].bias.data)\n",
    "\n",
    "\n",
    "def f(x):\n",
    "    x.retain_grad()\n",
    "    \n",
    "    n=x*w\n",
    "    d=n+b*torch.sign(n)*torch.sign(b)\n",
    "    \n",
    "    return n/d\n",
    "\n",
    "\n",
    "a=copy_tensor(A[\".interactionnetwork.node_model.node_mlp_1.1\"].data)\n",
    "frac=f(a)\n",
    "r[6]=frac*r[7]\n",
    "\n",
    "print(r[6].sum())\n",
    "\n",
    "\n",
    "\n",
    "\n",
    "a=copy_tensor(A[\".interactionnetwork.node_model.node_mlp_1.0\"])\n",
    "a.retain_grad()\n",
    "layer=L[\".interactionnetwork.node_model.node_mlp_1.0\"]\n",
    "\n",
    "z=layer.forward(a)\n",
    "s=r[6]/(z+1e-9)\n",
    "\n",
    "(z*s.data).sum().backward()\n",
    "\n",
    "c=a.grad\n",
    "r[5]=a*c\n",
    "\n",
    "print(r[5].sum())"
   ]
  },
  {
   "cell_type": "code",
   "execution_count": 39,
   "metadata": {},
   "outputs": [
    {
     "name": "stdout",
     "output_type": "stream",
     "text": [
      "tensor(-0.0270, grad_fn=<SumBackward0>) tensor(0.0014, grad_fn=<SumBackward0>)\n",
      "tensor(-0.0275, grad_fn=<SumBackward0>)\n"
     ]
    }
   ],
   "source": [
    "# r split to two paths\n",
    "r_x_row,r_=r[5][:,:48],r[5][:,48:]\n",
    "print(r_.sum(),r_x_row.sum())\n",
    "\n",
    "a=copy_tensor(A[\".interactionnetwork.edge_model.edge_mlp.3\"])\n",
    "a.retain_grad()\n",
    "layer=L[\".interactionnetwork.edge_model.edge_mlp.3\"]\n",
    "\n",
    "z=layer.forward(a)\n",
    "s=r_/(z+1e-9)\n",
    "\n",
    "(z*s.data).sum().backward()\n",
    "\n",
    "c=a.grad\n",
    "r[4]=a*c\n",
    "\n",
    "print(r[4].sum())"
   ]
  },
  {
   "cell_type": "code",
   "execution_count": 40,
   "metadata": {},
   "outputs": [
    {
     "name": "stdout",
     "output_type": "stream",
     "text": [
      "tensor(-0.0275, grad_fn=<SumBackward0>)\n"
     ]
    }
   ],
   "source": [
    "a=copy_tensor(A[\".interactionnetwork.edge_model.edge_mlp.2\"])\n",
    "a.retain_grad()\n",
    "layer=L[\".interactionnetwork.edge_model.edge_mlp.2\"]\n",
    "\n",
    "z=layer.forward(a)\n",
    "s=r[4]/(z+1e-9)\n",
    "\n",
    "(z*s.data).sum().backward()\n",
    "\n",
    "c=a.grad\n",
    "r[3]=a*c\n",
    "\n",
    "print(r[3].sum())"
   ]
  },
  {
   "cell_type": "code",
   "execution_count": 41,
   "metadata": {},
   "outputs": [
    {
     "name": "stdout",
     "output_type": "stream",
     "text": [
      "tensor(-0.0373, grad_fn=<SumBackward0>)\n",
      "tensor(-0.0382, grad_fn=<SumBackward0>)\n"
     ]
    }
   ],
   "source": [
    "w=copy_tensor(L[\".interactionnetwork.edge_model.edge_mlp.1\"].weight.data)\n",
    "b=copy_tensor(L[\".interactionnetwork.edge_model.edge_mlp.1\"].bias.data)\n",
    "\n",
    "\n",
    "def f(x):\n",
    "    x.retain_grad()\n",
    "    \n",
    "    n=x*w\n",
    "    d=n+b*torch.sign(n)*torch.sign(b)\n",
    "    \n",
    "    return n/d\n",
    "\n",
    "\n",
    "a=copy_tensor(A[\".interactionnetwork.edge_model.edge_mlp.1\"].data)\n",
    "frac=f(a)\n",
    "r[2]=frac*r[3]\n",
    "\n",
    "print(r[2].sum())\n",
    "\n",
    "\n",
    "\n",
    "\n",
    "a=copy_tensor(A[\".interactionnetwork.edge_model.edge_mlp.0\"])\n",
    "a.retain_grad()\n",
    "layer=L[\".interactionnetwork.edge_model.edge_mlp.0\"]\n",
    "\n",
    "z=layer.forward(a)\n",
    "s=r[2]/(z+1e-9)\n",
    "\n",
    "(z*s.data).sum().backward()\n",
    "\n",
    "c=a.grad\n",
    "r[1]=a*c\n",
    "\n",
    "print(r[1].sum())"
   ]
  },
  {
   "cell_type": "code",
   "execution_count": 42,
   "metadata": {},
   "outputs": [
    {
     "name": "stdout",
     "output_type": "stream",
     "text": [
      "tensor(-0.0055, grad_fn=<SumBackward0>)\n"
     ]
    }
   ],
   "source": [
    "r_src,r_dest=r[1][:,:48],r[1][:,48:]\n",
    "r_x_src=scatter_mean(r_src,row,dim=0,dim_size=g.x.shape[0])\n",
    "r_x_dest=scatter_mean(r_dest,col,dim=0,dim_size=g.x.shape[0])\n",
    "\n",
    "w=copy_tensor(L[\".bn\"].weight.data)\n",
    "b=copy_tensor(L[\".bn\"].bias.data)\n",
    "\n",
    "\n",
    "def f(x):\n",
    "    x.retain_grad()\n",
    "    \n",
    "    n=x*w\n",
    "    d=n+b*torch.sign(n)*torch.sign(b)+1e-10\n",
    "    \n",
    "    return n/d\n",
    "\n",
    "\n",
    "a=copy_tensor(A[\".bn\"].data)\n",
    "frac=f(a)\n",
    "r[0]=frac*(r_x_src+r_x_dest+r_x+scatter_mean(r_x_row,row,dim=0,dim_size=g.x.shape[0])+1e-10)\n",
    "print(r[0].sum())"
   ]
  },
  {
   "cell_type": "code",
   "execution_count": 43,
   "metadata": {},
   "outputs": [
    {
     "name": "stdout",
     "output_type": "stream",
     "text": [
      "17 tensor(-0.3607)\n",
      "16 tensor(-0.0253)\n",
      "15 tensor(-0.0253)\n",
      "14 tensor(-0.0231)\n",
      "13 tensor(-0.0232)\n",
      "12 tensor(-0.0263)\n",
      "11 tensor(-0.0263)\n",
      "10 tensor(-0.0257)\n",
      "9 tensor(-0.0256)\n",
      "8 tensor(-0.0239)\n",
      "7 tensor(-0.0239)\n",
      "6 tensor(-0.0262)\n",
      "5 tensor(-0.0256)\n",
      "4 tensor(-0.0275)\n",
      "3 tensor(-0.0275)\n",
      "2 tensor(-0.0373)\n",
      "1 tensor(-0.0382)\n",
      "0 tensor(-0.0055)\n"
     ]
    }
   ],
   "source": [
    "for i in range(17,0-1,-1):\n",
    "    try:\n",
    "        print(i,r[i].sum().data)\n",
    "    except:\n",
    "        continue"
   ]
  },
  {
   "cell_type": "code",
   "execution_count": null,
   "metadata": {},
   "outputs": [],
   "source": []
  },
  {
   "cell_type": "code",
   "execution_count": null,
   "metadata": {},
   "outputs": [],
   "source": []
  },
  {
   "cell_type": "code",
   "execution_count": null,
   "metadata": {},
   "outputs": [],
   "source": []
  },
  {
   "cell_type": "markdown",
   "metadata": {},
   "source": [
    "<hr>\n",
    "\n",
    "## Plot"
   ]
  },
  {
   "cell_type": "code",
   "execution_count": 44,
   "metadata": {},
   "outputs": [],
   "source": [
    "import pandas as pd\n",
    "import seaborn as sns\n",
    "import matplotlib.pyplot as plt\n",
    "import matplotlib.ticker as ticker\n",
    "\n",
    "%matplotlib inline\n",
    "%config InlineBackend.figure_format='retina'"
   ]
  },
  {
   "cell_type": "code",
   "execution_count": 45,
   "metadata": {},
   "outputs": [],
   "source": [
    "sns.set(style=\"white\")"
   ]
  },
  {
   "cell_type": "code",
   "execution_count": 46,
   "metadata": {},
   "outputs": [],
   "source": [
    "sort_pt_idx=torch.argsort(g.x[:,0])"
   ]
  },
  {
   "cell_type": "code",
   "execution_count": 49,
   "metadata": {},
   "outputs": [
    {
     "data": {
      "image/png": "[encoded data removed]",
      "text/plain": [
       "<Figure size 864x576 with 2 Axes>"
      ]
     },
     "metadata": {
      "image/png": {
       "height": 233,
       "width": 661
      }
     },
     "output_type": "display_data"
    }
   ],
   "source": [
    "val=r[0].detach().cpu().numpy()\n",
    "df=pd.DataFrame(val,columns=np.arange(48))\n",
    "\n",
    "# Set up the matplotlib figure\n",
    "f, ax = plt.subplots(figsize=(12,8))\n",
    "\n",
    "# Generate a custom diverging colormap\n",
    "cmap = sns.diverging_palette(240, 10, as_cmap=True)\n",
    "\n",
    "# Draw the heatmap with the mask and correct aspect ratio\n",
    "s=sns.heatmap(df, cmap=cmap, center=0,xticklabels=1,\n",
    "            square=True, linewidths=0.01, cbar_kws={\"shrink\": .5})\n",
    "\n",
    "s.tick_params(labelsize=7)\n",
    "\n",
    "if g.y[:,1]>0:\n",
    "    plt.title(\"source node feature relevance of a signal data sample\")\n",
    "else:\n",
    "    plt.title(\"source node feature relevance of a background data sample\")\n",
    "\n",
    "plt.show()"
   ]
  },
  {
   "cell_type": "code",
   "execution_count": null,
   "metadata": {},
   "outputs": [],
   "source": []
  },
  {
   "cell_type": "code",
   "execution_count": null,
   "metadata": {},
   "outputs": [],
   "source": []
  },
  {
   "cell_type": "code",
   "execution_count": null,
   "metadata": {},
   "outputs": [],
   "source": []
  }
 ],
 "metadata": {
  "kernelspec": {
   "display_name": "Python 3",
   "language": "python",
   "name": "python3"
  },
  "language_info": {
   "codemirror_mode": {
    "name": "ipython",
    "version": 3
   },
   "file_extension": ".py",
   "mimetype": "text/x-python",
   "name": "python",
   "nbconvert_exporter": "python",
   "pygments_lexer": "ipython3",
   "version": "3.7.6"
  }
 },
 "nbformat": 4,
 "nbformat_minor": 4
}
