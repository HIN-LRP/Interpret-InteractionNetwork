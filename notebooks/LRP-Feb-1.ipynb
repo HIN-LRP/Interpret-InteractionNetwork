{
 "cells": [
  {
   "cell_type": "code",
   "execution_count": 1,
   "metadata": {},
   "outputs": [],
   "source": [
    "import torch\n",
    "import torch.nn as nn\n",
    "from torch.nn import Sequential as Seq,Linear,ReLU,BatchNorm1d\n",
    "from torch_scatter import scatter_mean\n",
    "\n",
    "import numpy as np\n",
    "import matplotlib\n",
    "import matplotlib.pyplot as plt\n",
    "\n",
    "from InteractionNetwork import InteractionNetwork"
   ]
  },
  {
   "cell_type": "markdown",
   "metadata": {},
   "source": [
    "<hr>\n",
    "load pretrained model"
   ]
  },
  {
   "cell_type": "code",
   "execution_count": 2,
   "metadata": {},
   "outputs": [
    {
     "data": {
      "text/plain": [
       "<All keys matched successfully>"
      ]
     },
     "execution_count": 2,
     "metadata": {},
     "output_type": "execute_result"
    }
   ],
   "source": [
    "model=InteractionNetwork()\n",
    "model.load_state_dict(torch.load(\"../data/model/IN_best_dec10.pth\"))"
   ]
  },
  {
   "cell_type": "markdown",
   "metadata": {},
   "source": [
    "end of load pretrained model\n",
    "<hr>\n",
    "get data"
   ]
  },
  {
   "cell_type": "code",
   "execution_count": 3,
   "metadata": {},
   "outputs": [],
   "source": [
    "# get data\n",
    "\n",
    "import yaml\n",
    "from GraphDataset import GraphDataset\n",
    "\n",
    "\n",
    "device = torch.device(\"cuda:0\" if torch.cuda.is_available() else \"cpu\")\n",
    "\n",
    "\n",
    "\n",
    "with open('definitions.yml') as file:\n",
    "    # The FullLoader parameter handles the conversion from YAML\n",
    "    # scalar values to Python the dictionary format\n",
    "    definitions = yaml.load(file, Loader=yaml.FullLoader)\n",
    "    \n",
    "features = definitions['features']\n",
    "spectators = definitions['spectators']\n",
    "labels = definitions['labels']\n",
    "\n",
    "nfeatures = definitions['nfeatures']\n",
    "nspectators = definitions['nspectators']\n",
    "nlabels = definitions['nlabels']\n",
    "ntracks = definitions['ntracks']\n",
    "\n",
    "\n",
    "file_names=[\"/teams/DSC180A_FA20_A00/b06particlephysics/train/ntuple_merged_10.root\"]\n",
    "graph_dataset = GraphDataset('data', features, labels, spectators, n_events=10000, n_events_merge=1000, \n",
    "                             file_names=file_names)"
   ]
  },
  {
   "cell_type": "code",
   "execution_count": 4,
   "metadata": {},
   "outputs": [
    {
     "data": {
      "text/plain": [
       "Data(batch=[38], edge_index=[2, 1406], u=[1, 2], x=[38, 48], y=[1, 2])"
      ]
     },
     "execution_count": 4,
     "metadata": {},
     "output_type": "execute_result"
    }
   ],
   "source": [
    "b=graph_dataset[0]\n",
    "g=b[0]\n",
    "g.batch=torch.tensor(np.zeros(g.x.shape[0]).astype(\"int64\"))\n",
    "g"
   ]
  },
  {
   "cell_type": "markdown",
   "metadata": {},
   "source": [
    "end of get data<hr>"
   ]
  },
  {
   "cell_type": "markdown",
   "metadata": {},
   "source": [
    "functions copied from `src.util`"
   ]
  },
  {
   "cell_type": "code",
   "execution_count": 52,
   "metadata": {},
   "outputs": [],
   "source": [
    "def copy(layer):\n",
    "    \"\"\"\n",
    "    create a deep copy of provided layer\n",
    "    \"\"\"\n",
    "    layer_cp=eval(\"nn.\"+layer.__repr__())\n",
    "    layer_cp.load_state_dict(layer.state_dict())\n",
    "    \n",
    "    return layer_cp\n",
    "\n",
    "\n",
    "def rho(layer):\n",
    "    \"\"\"\n",
    "    create a deep copy of a linear layer\n",
    "    \"\"\"\n",
    "    W=layer.weight.detach()\n",
    "    b=layer.bias.detach()\n",
    "    \n",
    "    return lambda a: a@W.T+b\n",
    "\n",
    "\n",
    "def lrp(layer,a,R,epsilon=1e-9,relu=False):\n",
    "    \"\"\"\n",
    "    LRP-epsilon, with epsilon set to 1e-9 by default\n",
    "    \"\"\"\n",
    "    a=torch.tensor(a,requires_grad=True)\n",
    "    a.retain_grad()\n",
    "    \n",
    "    z=epsilon+rho(layer)(a)\n",
    "    s=R/(z+1e-9)\n",
    "    (z@s.data).sum().backward()\n",
    "    c=a.grad\n",
    "    \n",
    "    if relu:\n",
    "        R=nn.ReLU()(z.sum())*c\n",
    "    else:\n",
    "        R=a*c\n",
    "    \n",
    "    return R\n"
   ]
  },
  {
   "cell_type": "code",
   "execution_count": 53,
   "metadata": {},
   "outputs": [
    {
     "name": "stdout",
     "output_type": "stream",
     "text": [
      "edge_mlp.0 Linear(in_features=96, out_features=128, bias=True)\n",
      "edge_mlp.1 BatchNorm1d(128, eps=1e-05, momentum=0.1, affine=True, track_running_stats=True)\n",
      "edge_mlp.2 ReLU()\n",
      "edge_mlp.3 Linear(in_features=128, out_features=128, bias=True)\n",
      "node_mlp_1.0 Linear(in_features=176, out_features=128, bias=True)\n",
      "node_mlp_1.1 BatchNorm1d(128, eps=1e-05, momentum=0.1, affine=True, track_running_stats=True)\n",
      "node_mlp_1.2 ReLU()\n",
      "node_mlp_1.3 Linear(in_features=128, out_features=128, bias=True)\n",
      "node_mlp_2.0 Linear(in_features=176, out_features=128, bias=True)\n",
      "node_mlp_2.1 BatchNorm1d(128, eps=1e-05, momentum=0.1, affine=True, track_running_stats=True)\n",
      "node_mlp_2.2 ReLU()\n",
      "node_mlp_2.3 Linear(in_features=128, out_features=128, bias=True)\n",
      "global_mlp.0 Linear(in_features=128, out_features=128, bias=True)\n",
      "global_mlp.1 BatchNorm1d(128, eps=1e-05, momentum=0.1, affine=True, track_running_stats=True)\n",
      "global_mlp.2 ReLU()\n",
      "global_mlp.3 Linear(in_features=128, out_features=2, bias=True)\n"
     ]
    }
   ],
   "source": [
    "for i in (model.interactionnetwork.children()):\n",
    "    for n,j in i.named_modules():\n",
    "        if n and n[-1].isnumeric() and (\".\" in n):\n",
    "            print(n,j.__repr__())"
   ]
  },
  {
   "cell_type": "markdown",
   "metadata": {},
   "source": [
    "layer name `n` ends with 0-2 -> joint together, rectified linear layer\n",
    "layer name `n` ends with 3 -> standalone linear layer\n",
    "\n",
    "`R2` (`node_mlp_1.0-2`) and `R4` (`node_mlp_2.0-2`) contains partial relevance score of input `x`"
   ]
  },
  {
   "cell_type": "code",
   "execution_count": 156,
   "metadata": {},
   "outputs": [
    {
     "data": {
      "text/plain": [
       "{'L0': Sequential(\n",
       "   (0): Linear(in_features=96, out_features=128, bias=True)\n",
       "   (1): BatchNorm1d(128, eps=1e-05, momentum=0.1, affine=True, track_running_stats=True)\n",
       "   (2): ReLU()\n",
       " ),\n",
       " 'L1': Linear(in_features=128, out_features=128, bias=True),\n",
       " 'L2': Sequential(\n",
       "   (0): Linear(in_features=176, out_features=128, bias=True)\n",
       "   (1): BatchNorm1d(128, eps=1e-05, momentum=0.1, affine=True, track_running_stats=True)\n",
       "   (2): ReLU()\n",
       " ),\n",
       " 'L3': Linear(in_features=128, out_features=128, bias=True),\n",
       " 'L4': Sequential(\n",
       "   (0): Linear(in_features=176, out_features=128, bias=True)\n",
       "   (1): BatchNorm1d(128, eps=1e-05, momentum=0.1, affine=True, track_running_stats=True)\n",
       "   (2): ReLU()\n",
       " ),\n",
       " 'L5': Linear(in_features=128, out_features=128, bias=True),\n",
       " 'L6': Sequential(\n",
       "   (0): Linear(in_features=128, out_features=128, bias=True)\n",
       "   (1): BatchNorm1d(128, eps=1e-05, momentum=0.1, affine=True, track_running_stats=True)\n",
       "   (2): ReLU()\n",
       " ),\n",
       " 'L7': Linear(in_features=128, out_features=2, bias=True)}"
      ]
     },
     "execution_count": 156,
     "metadata": {},
     "output_type": "execute_result"
    }
   ],
   "source": [
    "layers={}\n",
    "cnt=0\n",
    "for i in (model.interactionnetwork.children()):\n",
    "    layer=[]\n",
    "    for n,j in i.named_modules():\n",
    "        if n and n[-1].isnumeric() and (\".\" in n):\n",
    "            if n[-1] in [\"0\",\"1\",\"2\"]:\n",
    "                layer.append(copy(j))\n",
    "            else:\n",
    "                layers[f\"L{cnt}\"]=Seq(*layer)\n",
    "                layer=[]\n",
    "                cnt+=1\n",
    "                \n",
    "                layers[f\"L{cnt}\"]=copy(j)\n",
    "                cnt+=1\n",
    "layers"
   ]
  },
  {
   "cell_type": "code",
   "execution_count": 157,
   "metadata": {},
   "outputs": [],
   "source": [
    "row,col=g.edge_index\n",
    "n_tracks=g.x.shape[0]\n",
    "x=torch.tensor(torch.cat([g.x[row],g.x[col]],1).clone().detach().numpy(),\n",
    "               requires_grad=True)"
   ]
  },
  {
   "cell_type": "code",
   "execution_count": 158,
   "metadata": {},
   "outputs": [],
   "source": [
    "activations={}\n",
    "activations[\"a0\"]=layers[\"L0\"].forward(x)"
   ]
  },
  {
   "cell_type": "code",
   "execution_count": 159,
   "metadata": {},
   "outputs": [],
   "source": [
    "M_col=torch.zeros(col.shape[0],n_tracks,dtype=torch.float32)\n",
    "for i,j in enumerate(col):\n",
    "    M_col[i,j]=1\n",
    "M_col=M_col.T"
   ]
  },
  {
   "cell_type": "code",
   "execution_count": 166,
   "metadata": {},
   "outputs": [],
   "source": [
    "for i in range(1,len(layers.keys())):\n",
    "    if i==2:\n",
    "        a=torch.tensor(torch.cat([g.x[row],activations[f\"a{i-1}\"]],1).clone().detach().numpy(),\n",
    "                       requires_grad=True,dtype=torch.float32)\n",
    "    elif i==4:\n",
    "        a=torch.tensor(torch.cat([g.x,M_col@activations[f\"a{i-1}\"]],1).clone().detach().numpy(),\n",
    "                       requires_grad=True,dtype=torch.float32)\n",
    "    elif i==6:\n",
    "        layers[f\"L{i}\"].eval()\n",
    "        a=torch.tensor((torch.ones(1,n_tracks)@activations[f\"a{i-1}\"]/n_tracks).clone().detach().numpy(),\n",
    "                       requires_grad=True,dtype=torch.float32)\n",
    "    else:\n",
    "        a=torch.tensor(activations[f\"a{i-1}\"].clone().detach().numpy(),\n",
    "                      requires_grad=True,dtype=torch.float32)\n",
    "    \n",
    "    activations[f\"a{i}\"]=layers[f\"L{i}\"].forward(a)"
   ]
  },
  {
   "cell_type": "code",
   "execution_count": 167,
   "metadata": {},
   "outputs": [
    {
     "name": "stdout",
     "output_type": "stream",
     "text": [
      "a0 torch.Size([1406, 128])\n",
      "a1 torch.Size([1406, 128])\n",
      "a2 torch.Size([1406, 128])\n",
      "a3 torch.Size([1406, 128])\n",
      "a4 torch.Size([38, 128])\n",
      "a5 torch.Size([38, 128])\n",
      "a6 torch.Size([1, 128])\n",
      "a7 torch.Size([1, 2])\n"
     ]
    }
   ],
   "source": [
    "for k in activations.keys():\n",
    "    print(k,activations[k].shape)"
   ]
  },
  {
   "cell_type": "code",
   "execution_count": 168,
   "metadata": {},
   "outputs": [
    {
     "data": {
      "text/plain": [
       "(tensor([[0.9731, 0.0269]], grad_fn=<SoftmaxBackward>),\n",
       " tensor(-3.5897, grad_fn=<LogBackward>))"
      ]
     },
     "execution_count": 168,
     "metadata": {},
     "output_type": "execute_result"
    }
   ],
   "source": [
    "prob=nn.Softmax(1)(activations[\"a7\"])\n",
    "eta_c=torch.log(prob[0,1]/(1-prob[0,1]))\n",
    "prob,eta_c"
   ]
  },
  {
   "cell_type": "code",
   "execution_count": 169,
   "metadata": {},
   "outputs": [],
   "source": [
    "def LRP(i):\n",
    "    a=torch.tensor(activations[f\"a{i-1}\"].clone().detach().numpy(),\n",
    "                      requires_grad=True,dtype=torch.float32)\n",
    "    a.retain_grad()\n",
    "    \n",
    "    z=layers[f\"L{i}\"].forward(a)\n",
    "    s=R[f\"R{i+1}\"]/(z+1e-9)\n",
    "    \n",
    "    (z*s.data).sum().backward()\n",
    "    c=a.grad\n",
    "    R[f\"R{i}\"]=a*c"
   ]
  },
  {
   "cell_type": "code",
   "execution_count": 170,
   "metadata": {},
   "outputs": [
    {
     "ename": "RuntimeError",
     "evalue": "size mismatch, m1: [1406 x 128], m2: [176 x 128] at /pytorch/aten/src/TH/generic/THTensorMath.cpp:41",
     "output_type": "error",
     "traceback": [
      "\u001b[0;31m\u001b[0m",
      "\u001b[0;31mRuntimeError\u001b[0mTraceback (most recent call last)",
      "\u001b[0;32m<ipython-input-170-60d2640c30b8>\u001b[0m in \u001b[0;36m<module>\u001b[0;34m\u001b[0m\n\u001b[1;32m      3\u001b[0m \u001b[0;34m\u001b[0m\u001b[0m\n\u001b[1;32m      4\u001b[0m \u001b[0;32mfor\u001b[0m \u001b[0mi\u001b[0m \u001b[0;32min\u001b[0m \u001b[0mrange\u001b[0m\u001b[0;34m(\u001b[0m\u001b[0mlen\u001b[0m\u001b[0;34m(\u001b[0m\u001b[0mlayers\u001b[0m\u001b[0;34m.\u001b[0m\u001b[0mkeys\u001b[0m\u001b[0;34m(\u001b[0m\u001b[0;34m)\u001b[0m\u001b[0;34m)\u001b[0m\u001b[0;34m-\u001b[0m\u001b[0;36m1\u001b[0m\u001b[0;34m,\u001b[0m\u001b[0;36m1\u001b[0m\u001b[0;34m,\u001b[0m\u001b[0;34m-\u001b[0m\u001b[0;36m1\u001b[0m\u001b[0;34m)\u001b[0m\u001b[0;34m:\u001b[0m\u001b[0;34m\u001b[0m\u001b[0;34m\u001b[0m\u001b[0m\n\u001b[0;32m----> 5\u001b[0;31m     \u001b[0mLRP\u001b[0m\u001b[0;34m(\u001b[0m\u001b[0mi\u001b[0m\u001b[0;34m)\u001b[0m\u001b[0;34m\u001b[0m\u001b[0;34m\u001b[0m\u001b[0m\n\u001b[0m\u001b[1;32m      6\u001b[0m \u001b[0;34m\u001b[0m\u001b[0m\n\u001b[1;32m      7\u001b[0m \u001b[0;31m#     if i==2:\u001b[0m\u001b[0;34m\u001b[0m\u001b[0;34m\u001b[0m\u001b[0;34m\u001b[0m\u001b[0m\n",
      "\u001b[0;32m<ipython-input-169-ff8500dde2da>\u001b[0m in \u001b[0;36mLRP\u001b[0;34m(i)\u001b[0m\n\u001b[1;32m      4\u001b[0m     \u001b[0ma\u001b[0m\u001b[0;34m.\u001b[0m\u001b[0mretain_grad\u001b[0m\u001b[0;34m(\u001b[0m\u001b[0;34m)\u001b[0m\u001b[0;34m\u001b[0m\u001b[0;34m\u001b[0m\u001b[0m\n\u001b[1;32m      5\u001b[0m \u001b[0;34m\u001b[0m\u001b[0m\n\u001b[0;32m----> 6\u001b[0;31m     \u001b[0mz\u001b[0m\u001b[0;34m=\u001b[0m\u001b[0mlayers\u001b[0m\u001b[0;34m[\u001b[0m\u001b[0;34mf\"L{i}\"\u001b[0m\u001b[0;34m]\u001b[0m\u001b[0;34m.\u001b[0m\u001b[0mforward\u001b[0m\u001b[0;34m(\u001b[0m\u001b[0ma\u001b[0m\u001b[0;34m)\u001b[0m\u001b[0;34m\u001b[0m\u001b[0;34m\u001b[0m\u001b[0m\n\u001b[0m\u001b[1;32m      7\u001b[0m     \u001b[0ms\u001b[0m\u001b[0;34m=\u001b[0m\u001b[0mR\u001b[0m\u001b[0;34m[\u001b[0m\u001b[0;34mf\"R{i+1}\"\u001b[0m\u001b[0;34m]\u001b[0m\u001b[0;34m/\u001b[0m\u001b[0;34m(\u001b[0m\u001b[0mz\u001b[0m\u001b[0;34m+\u001b[0m\u001b[0;36m1e-9\u001b[0m\u001b[0;34m)\u001b[0m\u001b[0;34m\u001b[0m\u001b[0;34m\u001b[0m\u001b[0m\n\u001b[1;32m      8\u001b[0m \u001b[0;34m\u001b[0m\u001b[0m\n",
      "\u001b[0;32m/opt/conda/lib/python3.7/site-packages/torch/nn/modules/container.py\u001b[0m in \u001b[0;36mforward\u001b[0;34m(self, input)\u001b[0m\n\u001b[1;32m    115\u001b[0m     \u001b[0;32mdef\u001b[0m \u001b[0mforward\u001b[0m\u001b[0;34m(\u001b[0m\u001b[0mself\u001b[0m\u001b[0;34m,\u001b[0m \u001b[0minput\u001b[0m\u001b[0;34m)\u001b[0m\u001b[0;34m:\u001b[0m\u001b[0;34m\u001b[0m\u001b[0;34m\u001b[0m\u001b[0m\n\u001b[1;32m    116\u001b[0m         \u001b[0;32mfor\u001b[0m \u001b[0mmodule\u001b[0m \u001b[0;32min\u001b[0m \u001b[0mself\u001b[0m\u001b[0;34m:\u001b[0m\u001b[0;34m\u001b[0m\u001b[0;34m\u001b[0m\u001b[0m\n\u001b[0;32m--> 117\u001b[0;31m             \u001b[0minput\u001b[0m \u001b[0;34m=\u001b[0m \u001b[0mmodule\u001b[0m\u001b[0;34m(\u001b[0m\u001b[0minput\u001b[0m\u001b[0;34m)\u001b[0m\u001b[0;34m\u001b[0m\u001b[0;34m\u001b[0m\u001b[0m\n\u001b[0m\u001b[1;32m    118\u001b[0m         \u001b[0;32mreturn\u001b[0m \u001b[0minput\u001b[0m\u001b[0;34m\u001b[0m\u001b[0;34m\u001b[0m\u001b[0m\n\u001b[1;32m    119\u001b[0m \u001b[0;34m\u001b[0m\u001b[0m\n",
      "\u001b[0;32m/opt/conda/lib/python3.7/site-packages/torch/nn/modules/module.py\u001b[0m in \u001b[0;36m_call_impl\u001b[0;34m(self, *input, **kwargs)\u001b[0m\n\u001b[1;32m    720\u001b[0m             \u001b[0mresult\u001b[0m \u001b[0;34m=\u001b[0m \u001b[0mself\u001b[0m\u001b[0;34m.\u001b[0m\u001b[0m_slow_forward\u001b[0m\u001b[0;34m(\u001b[0m\u001b[0;34m*\u001b[0m\u001b[0minput\u001b[0m\u001b[0;34m,\u001b[0m \u001b[0;34m**\u001b[0m\u001b[0mkwargs\u001b[0m\u001b[0;34m)\u001b[0m\u001b[0;34m\u001b[0m\u001b[0;34m\u001b[0m\u001b[0m\n\u001b[1;32m    721\u001b[0m         \u001b[0;32melse\u001b[0m\u001b[0;34m:\u001b[0m\u001b[0;34m\u001b[0m\u001b[0;34m\u001b[0m\u001b[0m\n\u001b[0;32m--> 722\u001b[0;31m             \u001b[0mresult\u001b[0m \u001b[0;34m=\u001b[0m \u001b[0mself\u001b[0m\u001b[0;34m.\u001b[0m\u001b[0mforward\u001b[0m\u001b[0;34m(\u001b[0m\u001b[0;34m*\u001b[0m\u001b[0minput\u001b[0m\u001b[0;34m,\u001b[0m \u001b[0;34m**\u001b[0m\u001b[0mkwargs\u001b[0m\u001b[0;34m)\u001b[0m\u001b[0;34m\u001b[0m\u001b[0;34m\u001b[0m\u001b[0m\n\u001b[0m\u001b[1;32m    723\u001b[0m         for hook in itertools.chain(\n\u001b[1;32m    724\u001b[0m                 \u001b[0m_global_forward_hooks\u001b[0m\u001b[0;34m.\u001b[0m\u001b[0mvalues\u001b[0m\u001b[0;34m(\u001b[0m\u001b[0;34m)\u001b[0m\u001b[0;34m,\u001b[0m\u001b[0;34m\u001b[0m\u001b[0;34m\u001b[0m\u001b[0m\n",
      "\u001b[0;32m/opt/conda/lib/python3.7/site-packages/torch/nn/modules/linear.py\u001b[0m in \u001b[0;36mforward\u001b[0;34m(self, input)\u001b[0m\n\u001b[1;32m     89\u001b[0m \u001b[0;34m\u001b[0m\u001b[0m\n\u001b[1;32m     90\u001b[0m     \u001b[0;32mdef\u001b[0m \u001b[0mforward\u001b[0m\u001b[0;34m(\u001b[0m\u001b[0mself\u001b[0m\u001b[0;34m,\u001b[0m \u001b[0minput\u001b[0m\u001b[0;34m:\u001b[0m \u001b[0mTensor\u001b[0m\u001b[0;34m)\u001b[0m \u001b[0;34m->\u001b[0m \u001b[0mTensor\u001b[0m\u001b[0;34m:\u001b[0m\u001b[0;34m\u001b[0m\u001b[0;34m\u001b[0m\u001b[0m\n\u001b[0;32m---> 91\u001b[0;31m         \u001b[0;32mreturn\u001b[0m \u001b[0mF\u001b[0m\u001b[0;34m.\u001b[0m\u001b[0mlinear\u001b[0m\u001b[0;34m(\u001b[0m\u001b[0minput\u001b[0m\u001b[0;34m,\u001b[0m \u001b[0mself\u001b[0m\u001b[0;34m.\u001b[0m\u001b[0mweight\u001b[0m\u001b[0;34m,\u001b[0m \u001b[0mself\u001b[0m\u001b[0;34m.\u001b[0m\u001b[0mbias\u001b[0m\u001b[0;34m)\u001b[0m\u001b[0;34m\u001b[0m\u001b[0;34m\u001b[0m\u001b[0m\n\u001b[0m\u001b[1;32m     92\u001b[0m \u001b[0;34m\u001b[0m\u001b[0m\n\u001b[1;32m     93\u001b[0m     \u001b[0;32mdef\u001b[0m \u001b[0mextra_repr\u001b[0m\u001b[0;34m(\u001b[0m\u001b[0mself\u001b[0m\u001b[0;34m)\u001b[0m \u001b[0;34m->\u001b[0m \u001b[0mstr\u001b[0m\u001b[0;34m:\u001b[0m\u001b[0;34m\u001b[0m\u001b[0;34m\u001b[0m\u001b[0m\n",
      "\u001b[0;32m/opt/conda/lib/python3.7/site-packages/torch/nn/functional.py\u001b[0m in \u001b[0;36mlinear\u001b[0;34m(input, weight, bias)\u001b[0m\n\u001b[1;32m   1672\u001b[0m     \u001b[0;32mif\u001b[0m \u001b[0minput\u001b[0m\u001b[0;34m.\u001b[0m\u001b[0mdim\u001b[0m\u001b[0;34m(\u001b[0m\u001b[0;34m)\u001b[0m \u001b[0;34m==\u001b[0m \u001b[0;36m2\u001b[0m \u001b[0;32mand\u001b[0m \u001b[0mbias\u001b[0m \u001b[0;32mis\u001b[0m \u001b[0;32mnot\u001b[0m \u001b[0;32mNone\u001b[0m\u001b[0;34m:\u001b[0m\u001b[0;34m\u001b[0m\u001b[0;34m\u001b[0m\u001b[0m\n\u001b[1;32m   1673\u001b[0m         \u001b[0;31m# fused op is marginally faster\u001b[0m\u001b[0;34m\u001b[0m\u001b[0;34m\u001b[0m\u001b[0;34m\u001b[0m\u001b[0m\n\u001b[0;32m-> 1674\u001b[0;31m         \u001b[0mret\u001b[0m \u001b[0;34m=\u001b[0m \u001b[0mtorch\u001b[0m\u001b[0;34m.\u001b[0m\u001b[0maddmm\u001b[0m\u001b[0;34m(\u001b[0m\u001b[0mbias\u001b[0m\u001b[0;34m,\u001b[0m \u001b[0minput\u001b[0m\u001b[0;34m,\u001b[0m \u001b[0mweight\u001b[0m\u001b[0;34m.\u001b[0m\u001b[0mt\u001b[0m\u001b[0;34m(\u001b[0m\u001b[0;34m)\u001b[0m\u001b[0;34m)\u001b[0m\u001b[0;34m\u001b[0m\u001b[0;34m\u001b[0m\u001b[0m\n\u001b[0m\u001b[1;32m   1675\u001b[0m     \u001b[0;32melse\u001b[0m\u001b[0;34m:\u001b[0m\u001b[0;34m\u001b[0m\u001b[0;34m\u001b[0m\u001b[0m\n\u001b[1;32m   1676\u001b[0m         \u001b[0moutput\u001b[0m \u001b[0;34m=\u001b[0m \u001b[0minput\u001b[0m\u001b[0;34m.\u001b[0m\u001b[0mmatmul\u001b[0m\u001b[0;34m(\u001b[0m\u001b[0mweight\u001b[0m\u001b[0;34m.\u001b[0m\u001b[0mt\u001b[0m\u001b[0;34m(\u001b[0m\u001b[0;34m)\u001b[0m\u001b[0;34m)\u001b[0m\u001b[0;34m\u001b[0m\u001b[0;34m\u001b[0m\u001b[0m\n",
      "\u001b[0;31mRuntimeError\u001b[0m: size mismatch, m1: [1406 x 128], m2: [176 x 128] at /pytorch/aten/src/TH/generic/THTensorMath.cpp:41"
     ]
    }
   ],
   "source": [
    "R={}\n",
    "R[f\"R{8}\"]=prob\n",
    "\n",
    "for i in range(len(layers.keys())-1,1,-1):\n",
    "    LRP(i)\n",
    "    \n",
    "#     if i==2:\n",
    "\n",
    "#     elif i==4:\n",
    "\n",
    "#     elif i==6:\n",
    "#         R[f\"R{i}\"]/=n_tracks\n",
    "\n",
    "#     else:\n",
    "#         continue"
   ]
  },
  {
   "cell_type": "code",
   "execution_count": 171,
   "metadata": {},
   "outputs": [
    {
     "name": "stdout",
     "output_type": "stream",
     "text": [
      "R8 torch.Size([1, 2]) tensor(1., grad_fn=<SumBackward0>)\n",
      "R7 torch.Size([1, 128]) tensor(1.0010, grad_fn=<SumBackward0>)\n",
      "R6 torch.Size([38, 128]) tensor(160.3599, grad_fn=<SumBackward0>)\n",
      "R5 torch.Size([38, 128]) tensor(41.5787, grad_fn=<SumBackward0>)\n"
     ]
    }
   ],
   "source": [
    "for k in R.keys():\n",
    "    print(k,R[k].shape,R[k].sum())"
   ]
  },
  {
   "cell_type": "code",
   "execution_count": 153,
   "metadata": {},
   "outputs": [
    {
     "data": {
      "text/plain": [
       "4.219997368421053"
      ]
     },
     "execution_count": 153,
     "metadata": {},
     "output_type": "execute_result"
    }
   ],
   "source": [
    "160.3599/n_tracks"
   ]
  },
  {
   "cell_type": "code",
   "execution_count": 125,
   "metadata": {},
   "outputs": [
    {
     "data": {
      "text/plain": [
       "torch.Size([1, 128])"
      ]
     },
     "execution_count": 125,
     "metadata": {},
     "output_type": "execute_result"
    }
   ],
   "source": [
    "\n",
    "(z=activations[\"a7\"]\n",
    "s=activations[\"a7\"]/z\n",
    "(z*s.data).sum().backward()\n",
    "c=a.grad\n",
    "r=a*c\n",
    "r.shape"
   ]
  },
  {
   "cell_type": "code",
   "execution_count": 121,
   "metadata": {},
   "outputs": [
    {
     "data": {
      "text/plain": [
       "torch.Size([1, 128])"
      ]
     },
     "execution_count": 121,
     "metadata": {},
     "output_type": "execute_result"
    }
   ],
   "source": [
    "activations[\"a6\"].shape"
   ]
  },
  {
   "cell_type": "code",
   "execution_count": null,
   "metadata": {},
   "outputs": [],
   "source": []
  },
  {
   "cell_type": "code",
   "execution_count": null,
   "metadata": {},
   "outputs": [],
   "source": []
  },
  {
   "cell_type": "code",
   "execution_count": null,
   "metadata": {},
   "outputs": [],
   "source": []
  },
  {
   "cell_type": "markdown",
   "metadata": {},
   "source": [
    "<hr>"
   ]
  },
  {
   "cell_type": "code",
   "execution_count": null,
   "metadata": {},
   "outputs": [],
   "source": []
  },
  {
   "cell_type": "code",
   "execution_count": null,
   "metadata": {},
   "outputs": [],
   "source": []
  },
  {
   "cell_type": "code",
   "execution_count": null,
   "metadata": {},
   "outputs": [],
   "source": []
  },
  {
   "cell_type": "code",
   "execution_count": null,
   "metadata": {},
   "outputs": [],
   "source": []
  },
  {
   "cell_type": "code",
   "execution_count": null,
   "metadata": {},
   "outputs": [],
   "source": []
  },
  {
   "cell_type": "code",
   "execution_count": 134,
   "metadata": {},
   "outputs": [],
   "source": [
    "def hook(dest,key,idx=0,row=None,n_track=None):        \n",
    "    def forward_hook(model,input,output):\n",
    "        a=input[0].detach()\n",
    "        a.requires_grad=True\n",
    "        a.retain_grad()\n",
    "        inputs[key]=a\n",
    "        m[key]=model\n",
    "        \n",
    "        def f(R,rho=lambda x:x,model=model,epsilon=1e-9):   \n",
    "            if idx>0:\n",
    "                temp=R[:,:idx]\n",
    "                R=R[:,idx:]\n",
    "                \n",
    "            if not (row is None):\n",
    "                R=R[row]/n_track\n",
    "            \n",
    "            z=epsilon+rho(model).forward(a)\n",
    "            s=R/(z+1e-9)\n",
    "            (z*s.data).sum().backward()\n",
    "            c=a.grad\n",
    "            R=(a*c)\n",
    "            \n",
    "            \n",
    "            if idx>0:\n",
    "                return R,temp\n",
    "            return R\n",
    "        \n",
    "        dest.append((key,f))\n",
    "    \n",
    "        \n",
    "    return forward_hook"
   ]
  },
  {
   "cell_type": "code",
   "execution_count": 135,
   "metadata": {},
   "outputs": [],
   "source": [
    "A=[]\n",
    "inputs={}\n",
    "hooks={}\n",
    "R={}\n",
    "m={}\n",
    "\n",
    "row,col=g.edge_index\n",
    "\n",
    "model=InteractionNetwork()\n",
    "model.load_state_dict(torch.load(\"../data/model/IN_best_dec10.pth\"))\n",
    "\n",
    "for i in (model.interactionnetwork.children()):\n",
    "    for n,j in i.named_modules():\n",
    "        if n and n[-1].isnumeric() and (\".\" in n):\n",
    "            # special cases: split before node 1.3 and edge 3\n",
    "            m[n]=j\n",
    "            if n==\"node_mlp_1.3\":\n",
    "                h=j.register_forward_hook(hook(A,n,idx=48,row=row,n_track=g.x.shape[0]))\n",
    "            elif n==\"edge_mlp.3\":\n",
    "                h=j.register_forward_hook(hook(A,n,idx=48))\n",
    "            else:\n",
    "                h=j.register_forward_hook(hook(A,n))\n",
    "                \n",
    "            hooks[n]=h\n",
    "            "
   ]
  },
  {
   "cell_type": "code",
   "execution_count": 136,
   "metadata": {},
   "outputs": [],
   "source": [
    "model.eval()\n",
    "out,edge_attr=model(g.x,g.edge_index,g.batch)"
   ]
  },
  {
   "cell_type": "code",
   "execution_count": 137,
   "metadata": {},
   "outputs": [
    {
     "name": "stdout",
     "output_type": "stream",
     "text": [
      "global_mlp.2\n",
      "    special layer global_mlp.2\n",
      "global_mlp.1\n",
      "    special layer global_mlp.1\n",
      "global_mlp.0\n",
      "    joint layer global_mlp.0\n",
      "node_mlp_2.3\n",
      "    normal layer node_mlp_2.3\n",
      "node_mlp_2.2\n",
      "    special layer node_mlp_2.2\n",
      "node_mlp_2.1\n",
      "    special layer node_mlp_2.1\n",
      "node_mlp_2.0\n",
      "    joint layer node_mlp_2.0\n",
      "node_mlp_1.3\n",
      "    normal layer node_mlp_1.3\n",
      "node_mlp_1.2\n",
      "    special layer node_mlp_1.2\n",
      "node_mlp_1.1\n",
      "    special layer node_mlp_1.1\n",
      "node_mlp_1.0\n",
      "    joint layer node_mlp_1.0\n",
      "edge_mlp.3\n",
      "    normal layer edge_mlp.3\n",
      "edge_mlp.2\n",
      "    special layer edge_mlp.2\n",
      "edge_mlp.1\n",
      "    special layer edge_mlp.1\n",
      "edge_mlp.0\n",
      "    joint layer edge_mlp.0\n"
     ]
    }
   ],
   "source": [
    "special_layers=[\"edge_mlp.1\",\"edge_mlp.2\",\n",
    "          \"node_mlp_1.1\",\"node_mlp_1.2\",\n",
    "          \"node_mlp_2.1\",\"node_mlp_2.2\",\n",
    "          \"global_mlp.1\",\"global_mlp.2\"]\n",
    "\n",
    "multipath_layer=[\"node_mlp_1.3\",\"edge_mlp.3\"]\n",
    "\n",
    "n,f=A.pop()\n",
    "R[n]=f(out)\n",
    "n_prev=n\n",
    "layers=[]\n",
    "while len(A):\n",
    "    n,f=A.pop()\n",
    "    hooks[n].remove()\n",
    "    print(n)\n",
    "    \n",
    "    if n in special_layers:\n",
    "        print(f\"    special layer {n}\")\n",
    "        layers.append(m[n])\n",
    "        \n",
    "    elif len(layers):\n",
    "        print(f\"    joint layer {n}\")\n",
    "        layers.append(m[n])\n",
    "        \n",
    "        if isinstance(R[n_prev],tuple):\n",
    "            temp=f(R[n_prev][0],model=Seq(*layers[::-1]))\n",
    "        \n",
    "        else:\n",
    "            temp=f(R[n_prev],model=Seq(*layers[::-1]))\n",
    "        \n",
    "        \n",
    "        \n",
    "        if isinstance(temp,tuple):\n",
    "            R[n],R[f\"input_{n}\"]=temp\n",
    "        else:\n",
    "            R[n]=temp\n",
    "#         if n in multipath_layer:\n",
    "#             R[n],R[f\"input_{n}\"]=f(R[n_prev],model=Seq(*layers[::-1]))\n",
    "#         else:\n",
    "#             R[n]=f(R[n_prev],model=Seq(*layers[::-1]))\n",
    "        layers=[]\n",
    "        n_prev=n\n",
    "    else:\n",
    "        print(f\"    normal layer {n}\")\n",
    "        R[n]=f(R[n_prev])\n",
    "        n_prev=n"
   ]
  },
  {
   "cell_type": "code",
   "execution_count": 138,
   "metadata": {
    "scrolled": false
   },
   "outputs": [
    {
     "data": {
      "text/plain": [
       "dict_keys(['global_mlp.3', 'global_mlp.0', 'node_mlp_2.3', 'node_mlp_2.0', 'node_mlp_1.3', 'node_mlp_1.0', 'edge_mlp.3', 'edge_mlp.0'])"
      ]
     },
     "execution_count": 138,
     "metadata": {},
     "output_type": "execute_result"
    }
   ],
   "source": [
    "R.keys()"
   ]
  },
  {
   "cell_type": "code",
   "execution_count": 139,
   "metadata": {},
   "outputs": [
    {
     "data": {
      "text/plain": [
       "torch.Size([1406, 96])"
      ]
     },
     "execution_count": 139,
     "metadata": {},
     "output_type": "execute_result"
    }
   ],
   "source": [
    "R[\"edge_mlp.0\"].shape"
   ]
  },
  {
   "cell_type": "code",
   "execution_count": 145,
   "metadata": {},
   "outputs": [
    {
     "data": {
      "image/png": "[encoded data removed]",
      "text/plain": [
       "<Figure size 432x288 with 1 Axes>"
      ]
     },
     "metadata": {
      "needs_background": "light"
     },
     "output_type": "display_data"
    }
   ],
   "source": [
    "row,col=g.edge_index\n",
    "M=torch.zeros(col.shape[0],g.x.shape[0])\n",
    "for i,j in enumerate(col):\n",
    "    M[i,j]=1\n",
    "M=M.T\n",
    "\n",
    "val=(M@R[\"edge_mlp.0\"])[:,48:].detach().cpu().numpy()\n",
    "row,col=val.shape\n",
    "\n",
    "fig,ax=plt.subplots()\n",
    "im=ax.imshow(val,cmap=\"Greys\")\n",
    "plt.show()"
   ]
  },
  {
   "cell_type": "code",
   "execution_count": 146,
   "metadata": {},
   "outputs": [
    {
     "data": {
      "image/png": "[encoded data removed]",
      "text/plain": [
       "<Figure size 432x288 with 1 Axes>"
      ]
     },
     "metadata": {
      "needs_background": "light"
     },
     "output_type": "display_data"
    }
   ],
   "source": [
    "row,col=g.edge_index\n",
    "M=torch.zeros(row.shape[0],g.x.shape[0])\n",
    "for i,j in enumerate(row):\n",
    "    M[i,j]=1\n",
    "M=M.T\n",
    "\n",
    "val=(M@R[\"edge_mlp.0\"])[:,:48].detach().cpu().numpy()\n",
    "row,col=val.shape\n",
    "\n",
    "fig,ax=plt.subplots()\n",
    "im=ax.imshow(val,cmap=\"Greys\")\n",
    "plt.show()"
   ]
  },
  {
   "cell_type": "code",
   "execution_count": 147,
   "metadata": {},
   "outputs": [
    {
     "data": {
      "text/plain": [
       "torch.Size([38, 48])"
      ]
     },
     "execution_count": 147,
     "metadata": {},
     "output_type": "execute_result"
    }
   ],
   "source": [
    "R[\"node_mlp_1.3\"][1].shape"
   ]
  },
  {
   "cell_type": "code",
   "execution_count": 148,
   "metadata": {},
   "outputs": [
    {
     "data": {
      "image/png": "[encoded data removed]",
      "text/plain": [
       "<Figure size 432x288 with 1 Axes>"
      ]
     },
     "metadata": {
      "needs_background": "light"
     },
     "output_type": "display_data"
    }
   ],
   "source": [
    "val=R[\"node_mlp_1.3\"][1].detach().cpu().numpy()\n",
    "row,col=val.shape\n",
    "\n",
    "fig,ax=plt.subplots()\n",
    "im=ax.imshow(val,cmap=\"Greys\")\n",
    "plt.show()"
   ]
  },
  {
   "cell_type": "code",
   "execution_count": null,
   "metadata": {},
   "outputs": [],
   "source": []
  }
 ],
 "metadata": {
  "kernelspec": {
   "display_name": "Python 3",
   "language": "python",
   "name": "python3"
  },
  "language_info": {
   "codemirror_mode": {
    "name": "ipython",
    "version": 3
   },
   "file_extension": ".py",
   "mimetype": "text/x-python",
   "name": "python",
   "nbconvert_exporter": "python",
   "pygments_lexer": "ipython3",
   "version": "3.7.6"
  }
 },
 "nbformat": 4,
 "nbformat_minor": 4
}
