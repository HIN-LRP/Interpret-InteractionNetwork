{
 "cells": [
  {
   "cell_type": "code",
   "execution_count": 1,
   "metadata": {},
   "outputs": [
    {
     "data": {
      "text/plain": [
       "device(type='cuda', index=0)"
      ]
     },
     "execution_count": 1,
     "metadata": {},
     "output_type": "execute_result"
    }
   ],
   "source": [
    "import torch\n",
    "import torch_geometric\n",
    "device = torch.device(\"cuda:0\" if torch.cuda.is_available() else \"cpu\")\n",
    "device"
   ]
  },
  {
   "cell_type": "code",
   "execution_count": 2,
   "metadata": {},
   "outputs": [],
   "source": [
    "import yaml\n",
    "\n",
    "with open('definitions.yml') as file:\n",
    "    # The FullLoader parameter handles the conversion from YAML\n",
    "    # scalar values to Python the dictionary format\n",
    "    definitions = yaml.load(file, Loader=yaml.FullLoader)\n",
    "    \n",
    "features = definitions['features']\n",
    "spectators = definitions['spectators']\n",
    "labels = definitions['labels']\n",
    "\n",
    "nfeatures = definitions['nfeatures']\n",
    "nspectators = definitions['nspectators']\n",
    "nlabels = definitions['nlabels']\n",
    "ntracks = definitions['ntracks']"
   ]
  },
  {
   "cell_type": "code",
   "execution_count": 9,
   "metadata": {},
   "outputs": [
    {
     "data": {
      "text/plain": [
       "['track_pt',\n",
       " 'track_ptrel',\n",
       " 'trackBTag_Eta',\n",
       " 'trackBTag_DeltaR',\n",
       " 'trackBTag_EtaRel',\n",
       " 'trackBTag_JetDistVal',\n",
       " 'trackBTag_Momentum',\n",
       " 'trackBTag_PPar',\n",
       " 'trackBTag_PParRatio',\n",
       " 'trackBTag_PtRatio',\n",
       " 'trackBTag_PtRel',\n",
       " 'trackBTag_Sip2dSig',\n",
       " 'trackBTag_Sip2dVal',\n",
       " 'trackBTag_Sip3dSig',\n",
       " 'trackBTag_Sip3dVal',\n",
       " 'track_VTX_ass',\n",
       " 'track_charge',\n",
       " 'track_deltaR',\n",
       " 'track_detadeta',\n",
       " 'track_dlambdadz',\n",
       " 'track_dlambdadz',\n",
       " 'track_dphidphi',\n",
       " 'track_dphidxy',\n",
       " 'track_dptdpt',\n",
       " 'track_drminsv',\n",
       " 'track_drsubjet1',\n",
       " 'track_drsubjet2',\n",
       " 'track_dxy',\n",
       " 'track_dxydxy',\n",
       " 'track_dxydz',\n",
       " 'track_dxysig',\n",
       " 'track_dz',\n",
       " 'track_dzdz',\n",
       " 'track_dzsig',\n",
       " 'track_erel',\n",
       " 'track_etarel',\n",
       " 'track_fromPV',\n",
       " 'track_isChargedHad',\n",
       " 'track_isEl',\n",
       " 'track_isMu',\n",
       " 'track_lostInnerHits',\n",
       " 'track_mass',\n",
       " 'track_normchi2',\n",
       " 'track_phirel',\n",
       " 'track_pt',\n",
       " 'track_ptrel',\n",
       " 'track_puppiw',\n",
       " 'track_quality']"
      ]
     },
     "execution_count": 9,
     "metadata": {},
     "output_type": "execute_result"
    }
   ],
   "source": [
    "definitions['features']"
   ]
  },
  {
   "cell_type": "code",
   "execution_count": 5,
   "metadata": {},
   "outputs": [
    {
     "name": "stderr",
     "output_type": "stream",
     "text": [
      "/datasets/home/66/566/ayl081/.local/lib/python3.7/site-packages/uproot3/__init__.py:138: FutureWarning: Consider switching from 'uproot3' to 'uproot', since the new interface became the default in 2020.\n",
      "\n",
      "    pip install -U uproot\n",
      "\n",
      "In Python:\n",
      "\n",
      "    >>> import uproot\n",
      "    >>> with uproot.open(...) as file:\n",
      "    ...\n",
      "\n",
      "  FutureWarning\n",
      "/datasets/home/66/566/ayl081/.local/lib/python3.7/site-packages/awkward0/__init__.py:23: FutureWarning: Consider switching from 'awkward0' to 'awkward', since the new interface became the default in 2020.\n",
      "\n",
      "    pip install -U awkward\n",
      "\n",
      "In Python:\n",
      "\n",
      "    >>> import awkward as ak\n",
      "    >>> new_style_array = ak.from_awkward0(old_style_array)\n",
      "    >>> old_style_array = ak.to_awkward0(new_style_array)\n",
      "\n",
      "  FutureWarning\n"
     ]
    },
    {
     "name": "stdout",
     "output_type": "stream",
     "text": [
      "Processing...\n"
     ]
    },
    {
     "name": "stderr",
     "output_type": "stream",
     "text": [
      "100%|██████████| 10000/10000 [00:33<00:00, 301.50it/s]"
     ]
    },
    {
     "name": "stdout",
     "output_type": "stream",
     "text": [
      "Done!\n"
     ]
    },
    {
     "name": "stderr",
     "output_type": "stream",
     "text": [
      "\n"
     ]
    }
   ],
   "source": [
    "from GraphDataset import GraphDataset\n",
    "# file_names = ['root://eospublic.cern.ch//eos/opendata/cms/datascience/HiggsToBBNtupleProducerTool/HiggsToBBNTuple_HiggsToBB_QCD_RunII_13TeV_MC/train/ntuple_merged_10.root']\n",
    "file_names=[\"/teams/DSC180A_FA20_A00/b06particlephysics/train/ntuple_merged_10.root\"]\n",
    "graph_dataset = GraphDataset('data', features, labels, spectators, n_events=10000, n_events_merge=1000, \n",
    "                             file_names=file_names)"
   ]
  },
  {
   "cell_type": "code",
   "execution_count": 10,
   "metadata": {},
   "outputs": [
    {
     "data": {
      "text/plain": [
       "Data(edge_index=[2, 272], u=[1, 2], x=[17, 48], y=[1, 2])"
      ]
     },
     "execution_count": 10,
     "metadata": {},
     "output_type": "execute_result"
    }
   ],
   "source": []
  },
  {
   "cell_type": "code",
   "execution_count": null,
   "metadata": {},
   "outputs": [],
   "source": []
  }
 ],
 "metadata": {
  "kernelspec": {
   "display_name": "Python 3",
   "language": "python",
   "name": "python3"
  },
  "language_info": {
   "codemirror_mode": {
    "name": "ipython",
    "version": 3
   },
   "file_extension": ".py",
   "mimetype": "text/x-python",
   "name": "python",
   "nbconvert_exporter": "python",
   "pygments_lexer": "ipython3",
   "version": "3.7.6"
  }
 },
 "nbformat": 4,
 "nbformat_minor": 4
}
